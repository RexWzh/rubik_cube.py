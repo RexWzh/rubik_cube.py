{
 "cells": [
  {
   "cell_type": "markdown",
   "metadata": {},
   "source": [
    "由于基础数据频繁调用，下边使用面向对象编程"
   ]
  },
  {
   "cell_type": "code",
   "execution_count": 11,
   "metadata": {},
   "outputs": [],
   "source": [
    "from RubikObj import *"
   ]
  },
  {
   "cell_type": "code",
   "execution_count": 12,
   "metadata": {},
   "outputs": [],
   "source": [
    "# 初始化魔方\n",
    "cube = Cube()"
   ]
  },
  {
   "cell_type": "code",
   "execution_count": 52,
   "metadata": {},
   "outputs": [],
   "source": [
    "# 检验位置\n",
    "cube.check_facets((1,))"
   ]
  },
  {
   "cell_type": "code",
   "execution_count": 53,
   "metadata": {},
   "outputs": [],
   "source": [
    "# 查看魔方截图\n",
    "img = pg.screenshot()\n",
    "\n",
    "# 获取正面三个截图\n",
    "U, L, F = cube.color_distribution(img)\n",
    "\n",
    "# 获取背面三个截图\n",
    "cube.shift_faces()\n",
    "time.sleep(1)\n",
    "img = pg.screenshot()\n",
    "B, R, D = cube.color_distribution(img, shift=True)\n",
    "cube.shift_faces(back=True)"
   ]
  },
  {
   "cell_type": "code",
   "execution_count": 54,
   "metadata": {},
   "outputs": [
    {
     "name": "stdout",
     "output_type": "stream",
     "text": [
      "22\n",
      "U'\tB'\tD\tB'\tU\tF'\tL\tF2\tB'\tR'\tL\tB'\tL2\tU'\tF2\tL2\tU'\tL2\tD'\tL2\tB2\tD2\t"
     ]
    }
   ],
   "source": [
    "# 导出魔方代码\n",
    "cube_code = \"\".join(U) + \"\".join(R) + \"\".join(F) + \"\".join(D) + \"\".join(L) + \"\".join(B)\n",
    "solution = kb.solve(cube_code).split()\n",
    "print(len(solution))\n",
    "for i in solution:\n",
    "    print(i,end=\"\\t\")"
   ]
  },
  {
   "cell_type": "markdown",
   "metadata": {},
   "source": [
    "余下内容：\n",
    "   - 五个面的基本操作\n",
    "   - 自动求解魔方\n",
    "   - 中心置换，输入特定魔方"
   ]
  }
 ],
 "metadata": {
  "kernelspec": {
   "display_name": "Python 3",
   "language": "python",
   "name": "python3"
  },
  "language_info": {
   "codemirror_mode": {
    "name": "ipython",
    "version": 3
   },
   "file_extension": ".py",
   "mimetype": "text/x-python",
   "name": "python",
   "nbconvert_exporter": "python",
   "pygments_lexer": "ipython3",
   "version": "3.8.10"
  }
 },
 "nbformat": 4,
 "nbformat_minor": 4
}
