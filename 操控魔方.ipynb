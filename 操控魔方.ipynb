{
 "cells": [
  {
   "cell_type": "markdown",
   "metadata": {},
   "source": [
    "由于基础数据频繁调用，下边使用面向对象编程"
   ]
  },
  {
   "cell_type": "code",
   "execution_count": null,
   "metadata": {},
   "outputs": [],
   "source": [
    "from RubikObj import *"
   ]
  },
  {
   "cell_type": "markdown",
   "metadata": {
    "heading_collapsed": true
   },
   "source": [
    "### 识别魔方"
   ]
  },
  {
   "cell_type": "code",
   "execution_count": null,
   "metadata": {
    "hidden": true
   },
   "outputs": [],
   "source": [
    "# 初始化魔方\n",
    "cube = Cube()"
   ]
  },
  {
   "cell_type": "code",
   "execution_count": null,
   "metadata": {
    "code_folding": [],
    "hidden": true
   },
   "outputs": [],
   "source": [
    "# 检验位置\n",
    "cube.check_facets((2,))"
   ]
  },
  {
   "cell_type": "code",
   "execution_count": null,
   "metadata": {
    "hidden": true
   },
   "outputs": [],
   "source": [
    "# 查看魔方截图\n",
    "img = pg.screenshot()\n",
    "\n",
    "# 获取正面三个截图\n",
    "U, L, F = cube.color_distribution(img)\n",
    "print([facet_to_color[i] for i in U])\n",
    "print([facet_to_color[i] for i in L])\n",
    "print([facet_to_color[i] for i in F])"
   ]
  },
  {
   "cell_type": "code",
   "execution_count": null,
   "metadata": {
    "hidden": true
   },
   "outputs": [],
   "source": [
    "# 获取背面三个截图\n",
    "cube.shift_faces()\n",
    "time.sleep(1)\n",
    "img = pg.screenshot()\n",
    "B, R, D = cube.color_distribution(img, shift=True)"
   ]
  },
  {
   "cell_type": "code",
   "execution_count": null,
   "metadata": {
    "hidden": true
   },
   "outputs": [],
   "source": [
    "print([facet_to_color[i] for i in B])\n",
    "print([facet_to_color[i] for i in R])\n",
    "print([facet_to_color[i] for i in D])"
   ]
  },
  {
   "cell_type": "code",
   "execution_count": null,
   "metadata": {
    "hidden": true
   },
   "outputs": [],
   "source": [
    "cube.shift_faces(back=True)"
   ]
  },
  {
   "cell_type": "markdown",
   "metadata": {
    "heading_collapsed": true
   },
   "source": [
    "### 求解魔方"
   ]
  },
  {
   "cell_type": "code",
   "execution_count": null,
   "metadata": {
    "hidden": true
   },
   "outputs": [],
   "source": [
    "# 导出魔方代码\n",
    "cube_code = \"\".join(U) + \"\".join(R) + \"\".join(F) + \"\".join(D) + \"\".join(L) + \"\".join(B)\n",
    "solution = kb.solve(cube_code).split()\n",
    "print(len(solution))\n",
    "for i in solution:\n",
    "    print(i,end=\"\\t\")"
   ]
  },
  {
   "cell_type": "markdown",
   "metadata": {
    "heading_collapsed": true
   },
   "source": [
    "### 魔方基础操作"
   ]
  },
  {
   "cell_type": "markdown",
   "metadata": {
    "hidden": true
   },
   "source": [
    "基本思路：\n",
    "   - U：对应 lefts[1], left 方向\n",
    "   - F：对应 lefts[5], -down 方向\n",
    "   - L：对应 rights[3], down 方向\n",
    "   - B：对应 ups[1], -right 方向\n",
    "   - R：对应 ups[5], left 方向\n",
    "   - D：对应 rights[7], right 方向"
   ]
  },
  {
   "cell_type": "code",
   "execution_count": null,
   "metadata": {
    "hidden": true,
    "scrolled": true
   },
   "outputs": [],
   "source": [
    "cube.check_basic_moves()"
   ]
  },
  {
   "cell_type": "markdown",
   "metadata": {
    "hidden": true
   },
   "source": [
    "中心块操作：\n",
    "   - 从顶上中间块出发，分别往四个方向：left, right,-left, -right\n",
    "   - 最后再复原"
   ]
  },
  {
   "cell_type": "code",
   "execution_count": null,
   "metadata": {
    "hidden": true
   },
   "outputs": [],
   "source": [
    "cube.shift_center()\n",
    "time.sleep(0.5)\n",
    "cube.shift_center(back=True)"
   ]
  },
  {
   "cell_type": "markdown",
   "metadata": {},
   "source": [
    "### 主函数"
   ]
  },
  {
   "cell_type": "code",
   "execution_count": 1,
   "metadata": {},
   "outputs": [],
   "source": [
    "from RubikObj import *"
   ]
  },
  {
   "cell_type": "code",
   "execution_count": 6,
   "metadata": {
    "collapsed": true
   },
   "outputs": [
    {
     "name": "stdout",
     "output_type": "stream",
     "text": [
      "魔方识别完毕\n",
      "一共需要 19 步，按回车开始还原魔方\n"
     ]
    },
    {
     "data": {
      "text/plain": [
       "[\"L'\",\n",
       " \"B'\",\n",
       " 'R2',\n",
       " 'D2',\n",
       " 'R',\n",
       " 'L',\n",
       " 'U',\n",
       " \"F'\",\n",
       " 'D',\n",
       " 'R',\n",
       " 'U',\n",
       " 'L2',\n",
       " \"U'\",\n",
       " 'D',\n",
       " 'R2',\n",
       " \"D'\",\n",
       " 'F2',\n",
       " 'U',\n",
       " 'D2']"
      ]
     },
     "execution_count": 6,
     "metadata": {},
     "output_type": "execute_result"
    }
   ],
   "source": [
    "# 初始化魔方\n",
    "cube = Cube()\n",
    "cube.check_facets(())\n",
    "cube.auto_solve_cube()"
   ]
  },
  {
   "cell_type": "code",
   "execution_count": 7,
   "metadata": {},
   "outputs": [],
   "source": [
    "# 得到给定状态\n",
    "state = 'UBRLUFFUBLRUFRLLLRDBDRFDBBUDDBUDDLRFBFLDLBFFRFLRUBRDUU'\n",
    "cube.to_cube_state(state)\n",
    "cube.get_cube_distribution(True) == state"
   ]
  },
  {
   "cell_type": "code",
   "execution_count": 13,
   "metadata": {
    "collapsed": true
   },
   "outputs": [
    {
     "name": "stdout",
     "output_type": "stream",
     "text": [
      "魔方识别完毕\n",
      "一共需要 19 步，按回车开始还原魔方\n"
     ]
    },
    {
     "data": {
      "text/plain": [
       "[\"L'\",\n",
       " \"B'\",\n",
       " 'R2',\n",
       " 'D2',\n",
       " 'R',\n",
       " 'L',\n",
       " 'U',\n",
       " \"F'\",\n",
       " 'D',\n",
       " 'R',\n",
       " 'U',\n",
       " 'L2',\n",
       " \"U'\",\n",
       " 'D',\n",
       " 'R2',\n",
       " \"D'\",\n",
       " 'F2',\n",
       " 'U',\n",
       " 'D2']"
      ]
     },
     "execution_count": 13,
     "metadata": {},
     "output_type": "execute_result"
    }
   ],
   "source": [
    "cube.auto_solve_cube()"
   ]
  },
  {
   "cell_type": "code",
   "execution_count": 3,
   "metadata": {},
   "outputs": [],
   "source": [
    "im = pg.screenshot()"
   ]
  },
  {
   "cell_type": "code",
   "execution_count": 8,
   "metadata": {},
   "outputs": [
    {
     "data": {
      "text/plain": [
       "numpy.ndarray"
      ]
     },
     "execution_count": 8,
     "metadata": {},
     "output_type": "execute_result"
    }
   ],
   "source": [
    "type(a)"
   ]
  },
  {
   "cell_type": "code",
   "execution_count": 6,
   "metadata": {},
   "outputs": [],
   "source": [
    "a = np.array([1])"
   ]
  },
  {
   "cell_type": "code",
   "execution_count": 7,
   "metadata": {},
   "outputs": [
    {
     "data": {
      "text/plain": [
       "numpy.int64"
      ]
     },
     "execution_count": 7,
     "metadata": {},
     "output_type": "execute_result"
    }
   ],
   "source": [
    "type(a[0])"
   ]
  },
  {
   "cell_type": "code",
   "execution_count": 4,
   "metadata": {},
   "outputs": [
    {
     "data": {
      "text/plain": [
       "PIL.PngImagePlugin.PngImageFile"
      ]
     },
     "execution_count": 4,
     "metadata": {},
     "output_type": "execute_result"
    }
   ],
   "source": [
    "type(im)"
   ]
  }
 ],
 "metadata": {
  "kernelspec": {
   "display_name": "Python 3",
   "language": "python",
   "name": "python3"
  },
  "language_info": {
   "codemirror_mode": {
    "name": "ipython",
    "version": 3
   },
   "file_extension": ".py",
   "mimetype": "text/x-python",
   "name": "python",
   "nbconvert_exporter": "python",
   "pygments_lexer": "ipython3",
   "version": "3.8.10"
  }
 },
 "nbformat": 4,
 "nbformat_minor": 4
}
