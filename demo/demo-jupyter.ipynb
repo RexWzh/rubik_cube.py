{
 "cells": [
  {
   "cell_type": "code",
   "execution_count": 1,
   "id": "82dde533",
   "metadata": {},
   "outputs": [
    {
     "name": "stdout",
     "output_type": "stream",
     "text": [
      "/home/rex/work_space/1 jupyter/0 项目/06 Rubik's cube/src\n"
     ]
    }
   ],
   "source": [
    "cd ../src/"
   ]
  },
  {
   "cell_type": "code",
   "execution_count": 2,
   "id": "c3c27c61",
   "metadata": {},
   "outputs": [],
   "source": [
    "import sys\n",
    "sys.path.append(\"./src/\")\n",
    "sys.path.append(\"../src/\")\n",
    "from rubik import *"
   ]
  },
  {
   "cell_type": "code",
   "execution_count": 3,
   "id": "c69ca132",
   "metadata": {},
   "outputs": [],
   "source": [
    "cube = Cube()"
   ]
  },
  {
   "cell_type": "code",
   "execution_count": 4,
   "id": "e856e235",
   "metadata": {},
   "outputs": [
    {
     "data": {
      "text/plain": [
       "(404, 367, 3)"
      ]
     },
     "execution_count": 4,
     "metadata": {},
     "output_type": "execute_result"
    }
   ],
   "source": [
    "template.shape"
   ]
  },
  {
   "cell_type": "code",
   "execution_count": 5,
   "id": "1317934f",
   "metadata": {
    "scrolled": true
   },
   "outputs": [],
   "source": [
    "cube.show_image()"
   ]
  },
  {
   "cell_type": "code",
   "execution_count": 6,
   "id": "5a4644f2",
   "metadata": {},
   "outputs": [
    {
     "name": "stdout",
     "output_type": "stream",
     "text": [
      "正在检查顶面，注意查看鼠标位置是否准确\n",
      "正在检查左侧面，注意查看鼠标位置是否准确\n",
      "正在检查右侧面，注意查看鼠标位置是否准确\n"
     ]
    }
   ],
   "source": [
    "cube.check_facets()"
   ]
  },
  {
   "cell_type": "code",
   "execution_count": 7,
   "id": "e194b5df",
   "metadata": {
    "collapsed": true
   },
   "outputs": [
    {
     "name": "stdout",
     "output_type": "stream",
     "text": [
      "魔方识别完毕\n",
      "还原需要 21 步\n",
      "魔方已还原，请检查\n"
     ]
    },
    {
     "data": {
      "text/plain": [
       "[\"U'\",\n",
       " 'F2',\n",
       " 'L2',\n",
       " 'B2',\n",
       " 'L2',\n",
       " 'U',\n",
       " \"B'\",\n",
       " \"R'\",\n",
       " 'F2',\n",
       " 'D',\n",
       " \"R'\",\n",
       " \"U'\",\n",
       " 'B2',\n",
       " 'U',\n",
       " \"D'\",\n",
       " 'B2',\n",
       " 'L2',\n",
       " \"U'\",\n",
       " 'B2',\n",
       " 'U2',\n",
       " 'F2']"
      ]
     },
     "execution_count": 7,
     "metadata": {},
     "output_type": "execute_result"
    }
   ],
   "source": [
    "cube.auto_solve_cube(wait=False)"
   ]
  },
  {
   "cell_type": "markdown",
   "id": "f7a9e8df",
   "metadata": {},
   "source": [
    "## Example 1"
   ]
  },
  {
   "cell_type": "code",
   "execution_count": null,
   "id": "2eca17c6",
   "metadata": {},
   "outputs": [],
   "source": [
    "print(\"######### 示例 1-使用默认参数(可在 data.py) 中修改 #############\")\n",
    "input(\"双击将魔方打乱，按回车开始：\")\n",
    "cube = Cube()\n",
    "\n",
    "s = input(\"是否检验魔方的小面位置，回车确认检查，否则输入 0：\")\n",
    "if s != \"0\":\n",
    "    cube.check_facets()\n",
    "\n",
    "input(\"自动观察并还原魔方，按回车开始：\")\n",
    "cube.auto_solve_cube(wait=False)"
   ]
  },
  {
   "cell_type": "markdown",
   "id": "af12a0d0",
   "metadata": {},
   "source": [
    "## Example 2"
   ]
  },
  {
   "cell_type": "code",
   "execution_count": null,
   "id": "7c1777f4",
   "metadata": {},
   "outputs": [],
   "source": [
    "print(\"######### 示例 2 开始 #############\")\n",
    "print(\"将魔方打乱，按提示，将鼠标移动到相应位置\")\n",
    "cube = Cube(standard=False)\n",
    "\n",
    "s = input(\"是否检验魔方的小面位置，回车确认检查，否则输入 0：\")\n",
    "if s != \"0\":\n",
    "    cube.check_facets()\n",
    "\n",
    "input(\"自动观察并还原魔方，按回车开始：\")\n",
    "cube.auto_solve_cube(wait=False)"
   ]
  },
  {
   "cell_type": "markdown",
   "id": "af4b877d",
   "metadata": {},
   "source": [
    "## Example 3"
   ]
  },
  {
   "cell_type": "code",
   "execution_count": null,
   "id": "ef90a5dd",
   "metadata": {},
   "outputs": [],
   "source": [
    "print(\"######### 示例 3 开始 #############\")\n",
    "txt = \"UBRLUFFUBLRUFRLLLRDBDRFDBBUDDBUDDLRFBFLDLBFFRFLRUBRDUU\"\n",
    "state = input(f\"请输入魔方状态的代码，直接回车使用示例代码\\n示例：\\n{txt}\\n\")\n",
    "if not state: state = txt\n",
    "try:\n",
    "    kb.solve(state) # 检验是否有效\n",
    "except:\n",
    "    print(\"魔方代码输入有误！请检查\")\n",
    "    print(expand_cube(state))\n",
    "print(\"输入魔方的展开图如下\")\n",
    "print(expand_cube(state))\n",
    "\n",
    "\n",
    "standard = input(\"是否使用默认位置，默认是，否则输入 0:\")\n",
    "standard = True if standard != \"0\" else False\n",
    "cube = Cube(standard=standard)\n",
    "\n",
    "s = input(\"是否检验魔方的小面位置，回车确认检查，否则输入 0：\")\n",
    "if s != \"0\":\n",
    "    cube.check_facets()\n",
    "\n",
    "\n",
    "input(\"按回车，开始构造给定魔方：\")\n",
    "sol = cube.to_cube_state(state)\n",
    "print(\"魔方解法为\")\n",
    "for i in sol:\n",
    "    print(i,end=\"\\t\")"
   ]
  }
 ],
 "metadata": {
  "interpreter": {
   "hash": "916dbcbb3f70747c44a77c7bcd40155683ae19c65e1c03b4aa3499c5328201f1"
  },
  "kernelspec": {
   "display_name": "Python 3 (ipykernel)",
   "language": "python",
   "name": "python3"
  },
  "language_info": {
   "codemirror_mode": {
    "name": "ipython",
    "version": 3
   },
   "file_extension": ".py",
   "mimetype": "text/x-python",
   "name": "python",
   "nbconvert_exporter": "python",
   "pygments_lexer": "ipython3",
   "version": "3.8.10"
  }
 },
 "nbformat": 4,
 "nbformat_minor": 5
}
