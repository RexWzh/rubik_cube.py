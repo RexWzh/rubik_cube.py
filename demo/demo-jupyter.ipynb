{
 "cells": [
  {
   "cell_type": "code",
   "execution_count": 1,
   "metadata": {},
   "outputs": [],
   "source": [
    "import sys\n",
    "sys.path.append(\"./src/\")\n",
    "sys.path.append(\"../src/\")\n",
    "from rubik import *"
   ]
  },
  {
   "cell_type": "markdown",
   "id": "b858f91a",
   "metadata": {},
   "source": [
    "## Example 1"
   ]
  },
  {
   "cell_type": "code",
   "execution_count": 2,
   "id": "301d3a25",
   "metadata": {},
   "outputs": [
    {
     "name": "stdout",
     "output_type": "stream",
     "text": [
      "######### 示例 1-使用默认参数(可在 data.py) 中修改 #############\n",
      "将页面放在左侧，充满半边\n"
     ]
    },
    {
     "ename": "KeyboardInterrupt",
     "evalue": "Interrupted by user",
     "output_type": "error",
     "traceback": [
      "\u001b[0;31m---------------------------------------------------------------------------\u001b[0m",
      "\u001b[0;31mKeyboardInterrupt\u001b[0m                         Traceback (most recent call last)",
      "\u001b[1;32m/home/rex/work_space/1 jupyter/0 项目/06 Rubik's cube/demo/demo-jupyter.ipynb Cell 3'\u001b[0m in \u001b[0;36m<cell line: 3>\u001b[0;34m()\u001b[0m\n\u001b[1;32m      <a href='vscode-notebook-cell:/home/rex/work_space/1%20jupyter/0%20%E9%A1%B9%E7%9B%AE/06%20Rubik%27s%20cube/demo/demo-jupyter.ipynb#ch0000004?line=0'>1</a>\u001b[0m \u001b[39mprint\u001b[39m(\u001b[39m\"\u001b[39m\u001b[39m######### 示例 1-使用默认参数(可在 data.py) 中修改 #############\u001b[39m\u001b[39m\"\u001b[39m)\n\u001b[1;32m      <a href='vscode-notebook-cell:/home/rex/work_space/1%20jupyter/0%20%E9%A1%B9%E7%9B%AE/06%20Rubik%27s%20cube/demo/demo-jupyter.ipynb#ch0000004?line=1'>2</a>\u001b[0m \u001b[39mprint\u001b[39m(\u001b[39m\"\u001b[39m\u001b[39m将页面放在左侧，充满半边\u001b[39m\u001b[39m\"\u001b[39m)\n\u001b[0;32m----> <a href='vscode-notebook-cell:/home/rex/work_space/1%20jupyter/0%20%E9%A1%B9%E7%9B%AE/06%20Rubik%27s%20cube/demo/demo-jupyter.ipynb#ch0000004?line=2'>3</a>\u001b[0m \u001b[39minput\u001b[39;49m(\u001b[39m\"\u001b[39;49m\u001b[39m双击将魔方打乱，按回车开始：\u001b[39;49m\u001b[39m\"\u001b[39;49m)\n\u001b[1;32m      <a href='vscode-notebook-cell:/home/rex/work_space/1%20jupyter/0%20%E9%A1%B9%E7%9B%AE/06%20Rubik%27s%20cube/demo/demo-jupyter.ipynb#ch0000004?line=3'>4</a>\u001b[0m cube \u001b[39m=\u001b[39m Cube()\n\u001b[1;32m      <a href='vscode-notebook-cell:/home/rex/work_space/1%20jupyter/0%20%E9%A1%B9%E7%9B%AE/06%20Rubik%27s%20cube/demo/demo-jupyter.ipynb#ch0000004?line=5'>6</a>\u001b[0m s \u001b[39m=\u001b[39m \u001b[39minput\u001b[39m(\u001b[39m\"\u001b[39m\u001b[39m是否检验魔方的小面位置，回车确认检查，否则输入 0：\u001b[39m\u001b[39m\"\u001b[39m)\n",
      "File \u001b[0;32m~/.local/lib/python3.8/site-packages/ipykernel/kernelbase.py:1161\u001b[0m, in \u001b[0;36mKernel.raw_input\u001b[0;34m(self, prompt)\u001b[0m\n\u001b[1;32m   <a href='file:///home/rex/.local/lib/python3.8/site-packages/ipykernel/kernelbase.py?line=1156'>1157</a>\u001b[0m \u001b[39mif\u001b[39;00m \u001b[39mnot\u001b[39;00m \u001b[39mself\u001b[39m\u001b[39m.\u001b[39m_allow_stdin:\n\u001b[1;32m   <a href='file:///home/rex/.local/lib/python3.8/site-packages/ipykernel/kernelbase.py?line=1157'>1158</a>\u001b[0m     \u001b[39mraise\u001b[39;00m StdinNotImplementedError(\n\u001b[1;32m   <a href='file:///home/rex/.local/lib/python3.8/site-packages/ipykernel/kernelbase.py?line=1158'>1159</a>\u001b[0m         \u001b[39m\"\u001b[39m\u001b[39mraw_input was called, but this frontend does not support input requests.\u001b[39m\u001b[39m\"\u001b[39m\n\u001b[1;32m   <a href='file:///home/rex/.local/lib/python3.8/site-packages/ipykernel/kernelbase.py?line=1159'>1160</a>\u001b[0m     )\n\u001b[0;32m-> <a href='file:///home/rex/.local/lib/python3.8/site-packages/ipykernel/kernelbase.py?line=1160'>1161</a>\u001b[0m \u001b[39mreturn\u001b[39;00m \u001b[39mself\u001b[39;49m\u001b[39m.\u001b[39;49m_input_request(\n\u001b[1;32m   <a href='file:///home/rex/.local/lib/python3.8/site-packages/ipykernel/kernelbase.py?line=1161'>1162</a>\u001b[0m     \u001b[39mstr\u001b[39;49m(prompt),\n\u001b[1;32m   <a href='file:///home/rex/.local/lib/python3.8/site-packages/ipykernel/kernelbase.py?line=1162'>1163</a>\u001b[0m     \u001b[39mself\u001b[39;49m\u001b[39m.\u001b[39;49m_parent_ident[\u001b[39m\"\u001b[39;49m\u001b[39mshell\u001b[39;49m\u001b[39m\"\u001b[39;49m],\n\u001b[1;32m   <a href='file:///home/rex/.local/lib/python3.8/site-packages/ipykernel/kernelbase.py?line=1163'>1164</a>\u001b[0m     \u001b[39mself\u001b[39;49m\u001b[39m.\u001b[39;49mget_parent(\u001b[39m\"\u001b[39;49m\u001b[39mshell\u001b[39;49m\u001b[39m\"\u001b[39;49m),\n\u001b[1;32m   <a href='file:///home/rex/.local/lib/python3.8/site-packages/ipykernel/kernelbase.py?line=1164'>1165</a>\u001b[0m     password\u001b[39m=\u001b[39;49m\u001b[39mFalse\u001b[39;49;00m,\n\u001b[1;32m   <a href='file:///home/rex/.local/lib/python3.8/site-packages/ipykernel/kernelbase.py?line=1165'>1166</a>\u001b[0m )\n",
      "File \u001b[0;32m~/.local/lib/python3.8/site-packages/ipykernel/kernelbase.py:1205\u001b[0m, in \u001b[0;36mKernel._input_request\u001b[0;34m(self, prompt, ident, parent, password)\u001b[0m\n\u001b[1;32m   <a href='file:///home/rex/.local/lib/python3.8/site-packages/ipykernel/kernelbase.py?line=1201'>1202</a>\u001b[0m             \u001b[39mbreak\u001b[39;00m\n\u001b[1;32m   <a href='file:///home/rex/.local/lib/python3.8/site-packages/ipykernel/kernelbase.py?line=1202'>1203</a>\u001b[0m \u001b[39mexcept\u001b[39;00m \u001b[39mKeyboardInterrupt\u001b[39;00m:\n\u001b[1;32m   <a href='file:///home/rex/.local/lib/python3.8/site-packages/ipykernel/kernelbase.py?line=1203'>1204</a>\u001b[0m     \u001b[39m# re-raise KeyboardInterrupt, to truncate traceback\u001b[39;00m\n\u001b[0;32m-> <a href='file:///home/rex/.local/lib/python3.8/site-packages/ipykernel/kernelbase.py?line=1204'>1205</a>\u001b[0m     \u001b[39mraise\u001b[39;00m \u001b[39mKeyboardInterrupt\u001b[39;00m(\u001b[39m\"\u001b[39m\u001b[39mInterrupted by user\u001b[39m\u001b[39m\"\u001b[39m) \u001b[39mfrom\u001b[39;00m \u001b[39mNone\u001b[39m\n\u001b[1;32m   <a href='file:///home/rex/.local/lib/python3.8/site-packages/ipykernel/kernelbase.py?line=1205'>1206</a>\u001b[0m \u001b[39mexcept\u001b[39;00m \u001b[39mException\u001b[39;00m:\n\u001b[1;32m   <a href='file:///home/rex/.local/lib/python3.8/site-packages/ipykernel/kernelbase.py?line=1206'>1207</a>\u001b[0m     \u001b[39mself\u001b[39m\u001b[39m.\u001b[39mlog\u001b[39m.\u001b[39mwarning(\u001b[39m\"\u001b[39m\u001b[39mInvalid Message:\u001b[39m\u001b[39m\"\u001b[39m, exc_info\u001b[39m=\u001b[39m\u001b[39mTrue\u001b[39;00m)\n",
      "\u001b[0;31mKeyboardInterrupt\u001b[0m: Interrupted by user"
     ]
    }
   ],
   "source": [
    "print(\"######### 示例 1-使用默认参数(可在 data.py) 中修改 #############\")\n",
    "print(\"将页面放在左侧，充满半边\")\n",
    "input(\"双击将魔方打乱，按回车开始：\")\n",
    "cube = Cube()\n",
    "\n",
    "s = input(\"是否检验魔方的小面位置，回车确认检查，否则输入 0：\")\n",
    "if s != \"0\":\n",
    "    cube.check_facets()\n",
    "\n",
    "input(\"自动观察并还原魔方，按回车开始：\")\n",
    "cube.auto_solve_cube(wait=False)"
   ]
  },
  {
   "cell_type": "markdown",
   "id": "8ffd0fe5",
   "metadata": {},
   "source": [
    "## Example 2"
   ]
  },
  {
   "cell_type": "code",
   "execution_count": null,
   "id": "1cf9cba7",
   "metadata": {},
   "outputs": [],
   "source": [
    "print(\"######### 示例 2 开始 #############\")\n",
    "print(\"将魔方打乱，按提示，将鼠标移动到相应位置\")\n",
    "cube = Cube(standard=False)\n",
    "\n",
    "s = input(\"是否检验魔方的小面位置，回车确认检查，否则输入 0：\")\n",
    "if s != \"0\":\n",
    "    cube.check_facets()\n",
    "\n",
    "input(\"自动观察并还原魔方，按回车开始：\")\n",
    "cube.auto_solve_cube(wait=False)"
   ]
  },
  {
   "cell_type": "markdown",
   "id": "200ff390",
   "metadata": {},
   "source": [
    "## Example 3"
   ]
  },
  {
   "cell_type": "code",
   "execution_count": null,
   "id": "fc61475b",
   "metadata": {},
   "outputs": [],
   "source": [
    "print(\"######### 示例 3 开始 #############\")\n",
    "txt = \"UBRLUFFUBLRUFRLLLRDBDRFDBBUDDBUDDLRFBFLDLBFFRFLRUBRDUU\"\n",
    "state = input(f\"请输入魔方状态的代码，直接回车使用示例代码\\n示例：\\n{txt}\\n\")\n",
    "if not state: state = txt\n",
    "try:\n",
    "    kb.solve(state) # 检验是否有效\n",
    "except:\n",
    "    print(\"魔方代码输入有误！请检查\")\n",
    "    print(expand_cube(state))\n",
    "print(\"输入魔方的展开图如下\")\n",
    "print(expand_cube(state))\n",
    "\n",
    "\n",
    "standard = input(\"是否使用默认位置，默认是，否则输入 0:\")\n",
    "standard = True if standard != \"0\" else False\n",
    "cube = Cube(standard=standard)\n",
    "\n",
    "s = input(\"是否检验魔方的小面位置，回车确认检查，否则输入 0：\")\n",
    "if s != \"0\":\n",
    "    cube.check_facets()\n",
    "\n",
    "\n",
    "input(\"按回车，开始构造给定魔方：\")\n",
    "sol = cube.to_cube_state(state)\n",
    "print(\"魔方解法为\")\n",
    "for i in sol:\n",
    "    print(i,end=\"\\t\")"
   ]
  }
 ],
 "metadata": {
  "interpreter": {
   "hash": "916dbcbb3f70747c44a77c7bcd40155683ae19c65e1c03b4aa3499c5328201f1"
  },
  "kernelspec": {
   "display_name": "Python 3.8.10 64-bit",
   "language": "python",
   "name": "python3"
  },
  "language_info": {
   "codemirror_mode": {
    "name": "ipython",
    "version": 3
   },
   "file_extension": ".py",
   "mimetype": "text/x-python",
   "name": "python",
   "nbconvert_exporter": "python",
   "pygments_lexer": "ipython3",
   "version": "3.8.10"
  }
 },
 "nbformat": 4,
 "nbformat_minor": 5
}
