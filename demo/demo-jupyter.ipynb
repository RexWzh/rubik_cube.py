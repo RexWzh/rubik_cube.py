{
 "cells": [
  {
   "cell_type": "code",
   "execution_count": 7,
   "id": "5db12943",
   "metadata": {
    "scrolled": true
   },
   "outputs": [
    {
     "name": "stdout",
     "output_type": "stream",
     "text": [
      "/home/rex/work_space/1 jupyter/0 项目/06 Rubik's cube/src\n"
     ]
    }
   ],
   "source": [
    "cd ../src/"
   ]
  },
  {
   "cell_type": "code",
   "execution_count": 8,
   "id": "4a49f7c3",
   "metadata": {},
   "outputs": [],
   "source": [
    "from rubik import *"
   ]
  },
  {
   "cell_type": "code",
   "execution_count": null,
   "id": "78399efc",
   "metadata": {},
   "outputs": [],
   "source": [
    "# 当魔方图较小时，可以设置 min_scale 参数\n",
    "# import scale_match\n",
    "# scale_match.min_scale = 0.4"
   ]
  },
  {
   "cell_type": "markdown",
   "id": "947be770",
   "metadata": {},
   "source": [
    "## Example 1-求解魔方"
   ]
  },
  {
   "cell_type": "code",
   "execution_count": null,
   "id": "b6e4a89b",
   "metadata": {},
   "outputs": [],
   "source": [
    "# scale_match.scale_match(image, template, num_step=10)"
   ]
  },
  {
   "cell_type": "code",
   "execution_count": 11,
   "id": "47d9ce35",
   "metadata": {
    "collapsed": true
   },
   "outputs": [
    {
     "name": "stdout",
     "output_type": "stream",
     "text": [
      "当前正在旋转的面为 U\n",
      "当前正在旋转的面为 D\n",
      "当前正在旋转的面为 L\n",
      "当前正在旋转的面为 R\n",
      "当前正在旋转的面为 F\n",
      "当前正在旋转的面为 B\n",
      "魔方识别完毕\n"
     ]
    },
    {
     "ename": "ValueError",
     "evalue": "Error. Probably cubestring is invalid",
     "output_type": "error",
     "traceback": [
      "\u001b[0;31m---------------------------------------------------------------------------\u001b[0m",
      "\u001b[0;31mValueError\u001b[0m                                Traceback (most recent call last)",
      "Input \u001b[0;32mIn [11]\u001b[0m, in \u001b[0;36m<cell line: 14>\u001b[0;34m()\u001b[0m\n\u001b[1;32m     11\u001b[0m cube\u001b[38;5;241m.\u001b[39mcheck_basic_moves()\n\u001b[1;32m     13\u001b[0m \u001b[38;5;66;03m# 自动识别并求解魔方\u001b[39;00m\n\u001b[0;32m---> 14\u001b[0m \u001b[43mcube\u001b[49m\u001b[38;5;241;43m.\u001b[39;49m\u001b[43mauto_solve_cube\u001b[49m\u001b[43m(\u001b[49m\u001b[43mwait\u001b[49m\u001b[38;5;241;43m=\u001b[39;49m\u001b[38;5;28;43;01mFalse\u001b[39;49;00m\u001b[43m)\u001b[49m\n",
      "File \u001b[0;32m~/work_space/1 jupyter/0 项目/06 Rubik's cube/src/rubik.py:38\u001b[0m, in \u001b[0;36mCube.auto_solve_cube\u001b[0;34m(self, wait)\u001b[0m\n\u001b[1;32m     36\u001b[0m cube_code \u001b[38;5;241m=\u001b[39m \u001b[38;5;28mself\u001b[39m\u001b[38;5;241m.\u001b[39mget_cube_distribution(string_code \u001b[38;5;241m=\u001b[39m \u001b[38;5;28;01mTrue\u001b[39;00m)\n\u001b[1;32m     37\u001b[0m \u001b[38;5;28mprint\u001b[39m(\u001b[38;5;124m\"\u001b[39m\u001b[38;5;124m魔方识别完毕\u001b[39m\u001b[38;5;124m\"\u001b[39m)\n\u001b[0;32m---> 38\u001b[0m solution \u001b[38;5;241m=\u001b[39m \u001b[43mkb\u001b[49m\u001b[38;5;241;43m.\u001b[39;49m\u001b[43msolve\u001b[49m\u001b[43m(\u001b[49m\u001b[43mcube_code\u001b[49m\u001b[43m)\u001b[49m\u001b[38;5;241m.\u001b[39msplit()\n\u001b[1;32m     39\u001b[0m \u001b[38;5;28mprint\u001b[39m(\u001b[38;5;124m\"\u001b[39m\u001b[38;5;124m还原需要 \u001b[39m\u001b[38;5;132;01m%d\u001b[39;00m\u001b[38;5;124m 步\u001b[39m\u001b[38;5;124m\"\u001b[39m\u001b[38;5;241m%\u001b[39m\u001b[38;5;28mlen\u001b[39m(solution))\n\u001b[1;32m     40\u001b[0m time\u001b[38;5;241m.\u001b[39msleep(\u001b[38;5;241m.4\u001b[39m)\n",
      "File \u001b[0;32m~/.local/lib/python3.8/site-packages/kociemba/__init__.py:61\u001b[0m, in \u001b[0;36msolve\u001b[0;34m(cubestring, patternstring, max_depth)\u001b[0m\n\u001b[1;32m     50\u001b[0m \u001b[38;5;28;01mdef\u001b[39;00m \u001b[38;5;21msolve\u001b[39m(cubestring, patternstring\u001b[38;5;241m=\u001b[39m\u001b[38;5;28;01mNone\u001b[39;00m, max_depth\u001b[38;5;241m=\u001b[39m\u001b[38;5;241m24\u001b[39m):\n\u001b[1;32m     51\u001b[0m     \u001b[38;5;124;03m\"\"\"\u001b[39;00m\n\u001b[1;32m     52\u001b[0m \u001b[38;5;124;03m    Solve a Rubik's cube using two-phase algorithm.\u001b[39;00m\n\u001b[1;32m     53\u001b[0m \n\u001b[0;32m   (...)\u001b[0m\n\u001b[1;32m     58\u001b[0m \u001b[38;5;124;03m    u\"R' D2 R' U2 R F2 D B2 U' R F' U R2 D L2 D' B2 R2 B2 U' B2\"\u001b[39;00m\n\u001b[1;32m     59\u001b[0m \u001b[38;5;124;03m    \"\"\"\u001b[39;00m\n\u001b[0;32m---> 61\u001b[0m     \u001b[38;5;28;01mreturn\u001b[39;00m \u001b[43m_solve\u001b[49m\u001b[43m(\u001b[49m\u001b[43mcubestring\u001b[49m\u001b[43m,\u001b[49m\u001b[43m \u001b[49m\u001b[43mpatternstring\u001b[49m\u001b[43m,\u001b[49m\u001b[43m \u001b[49m\u001b[43mmax_depth\u001b[49m\u001b[43m)\u001b[49m\n",
      "File \u001b[0;32m~/.local/lib/python3.8/site-packages/kociemba/__init__.py:18\u001b[0m, in \u001b[0;36m_solve\u001b[0;34m(cube, pattern, max_depth)\u001b[0m\n\u001b[1;32m     16\u001b[0m     \u001b[38;5;28;01mreturn\u001b[39;00m ffi\u001b[38;5;241m.\u001b[39mstring(res)\u001b[38;5;241m.\u001b[39mstrip()\u001b[38;5;241m.\u001b[39mdecode(\u001b[38;5;124m'\u001b[39m\u001b[38;5;124mutf-8\u001b[39m\u001b[38;5;124m'\u001b[39m)\n\u001b[1;32m     17\u001b[0m \u001b[38;5;28;01melse\u001b[39;00m:\n\u001b[0;32m---> 18\u001b[0m     \u001b[38;5;28;01mraise\u001b[39;00m \u001b[38;5;167;01mValueError\u001b[39;00m(\u001b[38;5;124m'\u001b[39m\u001b[38;5;124mError. Probably cubestring is invalid\u001b[39m\u001b[38;5;124m'\u001b[39m)\n",
      "\u001b[0;31mValueError\u001b[0m: Error. Probably cubestring is invalid"
     ]
    }
   ],
   "source": [
    "# 魔方初始化\n",
    "cube = Cube()\n",
    "\n",
    "# 检查识别是否准确\n",
    "cube.show_dectition() \n",
    "\n",
    "# 检查鼠标位置是否正确\n",
    "# cube.check_facets(sides=[0]) \n",
    "\n",
    "# 检验基本旋转\n",
    "# cube.check_basic_moves()\n",
    "\n",
    "# 自动识别并求解魔方\n",
    "cube.auto_solve_cube(wait=False)"
   ]
  },
  {
   "cell_type": "markdown",
   "id": "11e9fff5",
   "metadata": {},
   "source": [
    "## Example 2-构造魔方"
   ]
  },
  {
   "cell_type": "code",
   "execution_count": 13,
   "id": "2c8f90e5",
   "metadata": {},
   "outputs": [
    {
     "name": "stdout",
     "output_type": "stream",
     "text": [
      "请输入魔方状态的代码，直接回车使用示例代码\n",
      "示例：\n",
      "UBRLUFFUBLRUFRLLLRDBDRFDBBUDDBUDDLRFBFLDLBFFRFLRUBRDUU\n",
      "\n",
      "输入魔方的展开图如下\n",
      "\n",
      "          |*********|\n",
      "          |*U**B**R*|\n",
      "          |*********|\n",
      "          |*L**U**F*|\n",
      "          |*********|\n",
      "          |*F**U**B*|\n",
      "          |*********|\n",
      " *********|*********|*********|*********\n",
      " *B**F**L*|*D**B**D*|*L**R**U*|*F**L**R*\n",
      " *********|*********|*********|*********\n",
      " *D**L**B*|*R**F**D*|*F**R**L*|*U**B**R*\n",
      " *********|*********|*********|*********\n",
      " *F**F**R*|*B**B**U*|*L**L**R*|*D**U**U*\n",
      " *********|*********|*********|*********\n",
      "          |*********|\n",
      "          |*D**D**B*|\n",
      "          |*********|\n",
      "          |*U**D**D*|\n",
      "          |*********|\n",
      "          |*L**R**F*|\n",
      "          |*********|\n",
      "\n",
      "按回车，开始构造给定魔方：\n",
      "正在移位中心\n",
      "正在将魔方“还原”\n",
      "将魔方化为给定状态\n",
      "最后还原中心\n",
      "给定状态已得到\n",
      "魔方解法为\n",
      "L'\tB'\tR2\tD2\tR\tL\tU\tF'\tD\tR\tU\tL2\tU'\tD\tR2\tD'\tF2\tU\tD2\t"
     ]
    }
   ],
   "source": [
    "from tools import expand_cube\n",
    "txt = \"UBRLUFFUBLRUFRLLLRDBDRFDBBUDDBUDDLRFBFLDLBFFRFLRUBRDUU\"\n",
    "state = input(f\"请输入魔方状态的代码，直接回车使用示例代码\\n示例：\\n{txt}\\n\")\n",
    "if not state: state = txt\n",
    "try:\n",
    "    kb.solve(state) # 检验是否有效\n",
    "except:\n",
    "    print(\"魔方代码输入有误！请检查\")\n",
    "    print(expand_cube(state))\n",
    "print(\"输入魔方的展开图如下\")\n",
    "print(expand_cube(state))\n",
    "\n",
    "cube = Cube()\n",
    "\n",
    "input(\"按回车，开始构造给定魔方：\")\n",
    "sol = cube.to_cube_state(state)\n",
    "print(\"魔方解法为\")\n",
    "for i in sol:\n",
    "    print(i,end=\"\\t\")"
   ]
  }
 ],
 "metadata": {
  "interpreter": {
   "hash": "916dbcbb3f70747c44a77c7bcd40155683ae19c65e1c03b4aa3499c5328201f1"
  },
  "kernelspec": {
   "display_name": "Python 3 (ipykernel)",
   "language": "python",
   "name": "python3"
  },
  "language_info": {
   "codemirror_mode": {
    "name": "ipython",
    "version": 3
   },
   "file_extension": ".py",
   "mimetype": "text/x-python",
   "name": "python",
   "nbconvert_exporter": "python",
   "pygments_lexer": "ipython3",
   "version": "3.8.10"
  }
 },
 "nbformat": 4,
 "nbformat_minor": 5
}
