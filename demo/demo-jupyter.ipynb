{
 "cells": [
  {
   "cell_type": "code",
   "execution_count": null,
   "id": "69d03a65",
   "metadata": {
    "scrolled": true
   },
   "outputs": [],
   "source": [
    "cd ../src/"
   ]
  },
  {
   "cell_type": "code",
   "execution_count": null,
   "id": "38f52f9f",
   "metadata": {},
   "outputs": [],
   "source": [
    "from rubik import *"
   ]
  },
  {
   "cell_type": "code",
   "execution_count": null,
   "id": "82056f3e",
   "metadata": {},
   "outputs": [],
   "source": [
    "# 当魔方图较小时，可以设置 min_scale 参数\n",
    "# import scale_match\n",
    "# scale_match.min_scale = 0.4"
   ]
  },
  {
   "cell_type": "markdown",
   "id": "1f8aaf52",
   "metadata": {},
   "source": [
    "## Example 1-求解魔方"
   ]
  },
  {
   "cell_type": "code",
   "execution_count": null,
   "id": "10f3400c",
   "metadata": {},
   "outputs": [],
   "source": [
    "# scale_match.scale_match(image, template, num_step=10)"
   ]
  },
  {
   "cell_type": "code",
   "execution_count": null,
   "id": "1125d508",
   "metadata": {},
   "outputs": [],
   "source": [
    "# 魔方初始化\n",
    "cube = Cube()\n",
    "\n",
    "# 检查识别是否准确\n",
    "cube.show_dectition() \n",
    "\n",
    "# 检查鼠标位置是否正确\n",
    "# cube.check_facets(sides=[0]) \n",
    "\n",
    "# 检验基本旋转\n",
    "# cube.check_basic_moves()\n",
    "\n",
    "# 自动识别并求解魔方\n",
    "# cube.auto_solve_cube(wait=False)"
   ]
  },
  {
   "cell_type": "markdown",
   "id": "589f6960",
   "metadata": {},
   "source": [
    "## Example 2-构造魔方"
   ]
  },
  {
   "cell_type": "code",
   "execution_count": null,
   "id": "8620a98d",
   "metadata": {},
   "outputs": [],
   "source": [
    "from tools import expand_cube\n",
    "txt = \"UBRLUFFUBLRUFRLLLRDBDRFDBBUDDBUDDLRFBFLDLBFFRFLRUBRDUU\"\n",
    "state = input(f\"请输入魔方状态的代码，直接回车使用示例代码\\n示例：\\n{txt}\\n\")\n",
    "if not state: state = txt\n",
    "try:\n",
    "    kb.solve(state) # 检验是否有效\n",
    "except:\n",
    "    print(\"魔方代码输入有误！请检查\")\n",
    "    print(expand_cube(state))\n",
    "print(\"输入魔方的展开图如下\")\n",
    "print(expand_cube(state))\n",
    "\n",
    "cube = Cube()\n",
    "\n",
    "input(\"按回车，开始构造给定魔方：\")\n",
    "sol = cube.to_cube_state(state)\n",
    "print(\"魔方解法为\")\n",
    "for i in sol:\n",
    "    print(i,end=\"\\t\")"
   ]
  }
 ],
 "metadata": {
  "interpreter": {
   "hash": "916dbcbb3f70747c44a77c7bcd40155683ae19c65e1c03b4aa3499c5328201f1"
  },
  "kernelspec": {
   "display_name": "Python 3 (ipykernel)",
   "language": "python",
   "name": "python3"
  },
  "language_info": {
   "codemirror_mode": {
    "name": "ipython",
    "version": 3
   },
   "file_extension": ".py",
   "mimetype": "text/x-python",
   "name": "python",
   "nbconvert_exporter": "python",
   "pygments_lexer": "ipython3",
   "version": "3.8.10"
  }
 },
 "nbformat": 4,
 "nbformat_minor": 5
}
