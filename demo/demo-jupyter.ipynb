{
 "cells": [
  {
   "cell_type": "markdown",
   "id": "bdfb1111",
   "metadata": {},
   "source": [
    "### 安装依赖"
   ]
  },
  {
   "cell_type": "code",
   "execution_count": null,
   "id": "340e5980",
   "metadata": {},
   "outputs": [],
   "source": [
    "!pip install pyautogui\n",
    "!pip install kociemba\n",
    "!pip install opencv-python\n",
    "!pip install imutils"
   ]
  },
  {
   "cell_type": "code",
   "execution_count": null,
   "id": "05353e90",
   "metadata": {
    "scrolled": false
   },
   "outputs": [],
   "source": [
    "cd ../src/"
   ]
  },
  {
   "cell_type": "code",
   "execution_count": null,
   "id": "2429dbf7",
   "metadata": {
    "scrolled": true
   },
   "outputs": [],
   "source": [
    "from rubik import *"
   ]
  },
  {
   "cell_type": "markdown",
   "id": "3a005d77",
   "metadata": {},
   "source": [
    "## 测试 —— 魔方检测识别"
   ]
  },
  {
   "cell_type": "code",
   "execution_count": null,
   "id": "71186103",
   "metadata": {},
   "outputs": [],
   "source": [
    "# 初始化魔方\n",
    "cube = Cube(interval=0.15)\n",
    "\n",
    "# 检查识别状态\n",
    "print(\"注意：初始化时要隐藏下方截图，避免干扰图像检测\")\n",
    "cube.show_detection(openwindow=False)"
   ]
  },
  {
   "cell_type": "code",
   "execution_count": null,
   "id": "9fd7dd64",
   "metadata": {},
   "outputs": [],
   "source": [
    "# 如果识别不正确，根据魔方大小修改 `min_scale, max_scale, num_step` \n",
    "import scale_match\n",
    "scale_match.min_scale = 0.8 # 图像较小时调低，默认 0.8\n",
    "scale_match.max_scale = 3.5 # 图像较大时调高，默认 3.0\n",
    "scale_match.num_step = 80 # 匹配细度，默认 50 步"
   ]
  },
  {
   "cell_type": "code",
   "execution_count": null,
   "id": "e697f1d3",
   "metadata": {},
   "outputs": [],
   "source": [
    "# 检查魔方中心位置\n",
    "cube.check_center()"
   ]
  },
  {
   "cell_type": "code",
   "execution_count": null,
   "id": "035264d6",
   "metadata": {
    "scrolled": true
   },
   "outputs": [],
   "source": [
    "# 检查魔方小面位置\n",
    "cube.check_facets(sides=[0,1,2]) # 顶面，左面，右面"
   ]
  },
  {
   "cell_type": "markdown",
   "id": "73714acf",
   "metadata": {},
   "source": [
    "**显示匹配过程**：需安装 `ffmpeg`"
   ]
  },
  {
   "cell_type": "code",
   "execution_count": null,
   "id": "bae8f082",
   "metadata": {},
   "outputs": [],
   "source": [
    "from video import *"
   ]
  },
  {
   "cell_type": "code",
   "execution_count": null,
   "id": "f709f44c",
   "metadata": {},
   "outputs": [],
   "source": [
    "images = detect_image(cube.image, template, frames=True)"
   ]
  },
  {
   "cell_type": "markdown",
   "id": "bd4fe5d5",
   "metadata": {},
   "source": [
    "### 测试 —— 自动操作检测"
   ]
  },
  {
   "cell_type": "code",
   "execution_count": null,
   "id": "77c3d424",
   "metadata": {},
   "outputs": [],
   "source": [
    "# 检查基本旋转\n",
    "cube.check_basic_moves(facets=\"UDLRFB\")"
   ]
  },
  {
   "cell_type": "code",
   "execution_count": null,
   "id": "6961197a",
   "metadata": {},
   "outputs": [],
   "source": [
    "# 换心公式\n",
    "cube.shift_center()\n",
    "time.sleep(0.3)\n",
    "cube.shift_center(back=True)"
   ]
  },
  {
   "cell_type": "code",
   "execution_count": null,
   "id": "a020e328",
   "metadata": {},
   "outputs": [],
   "source": [
    "# 检查分布\n",
    "state = cube.get_cube_distribution(string_code=True)"
   ]
  },
  {
   "cell_type": "markdown",
   "id": "a2f5d717",
   "metadata": {},
   "source": [
    "### 测试 -- 检查颜色"
   ]
  },
  {
   "cell_type": "code",
   "execution_count": null,
   "id": "b13f67b2",
   "metadata": {},
   "outputs": [],
   "source": [
    "# 检查颜色\n",
    "from tools import expand_cube\n",
    "# state = cube.get_cube_distribution(string_code=True)\n",
    "print(expand_cube(state))"
   ]
  },
  {
   "cell_type": "markdown",
   "id": "c5f9e0f5",
   "metadata": {},
   "source": [
    "## Example 1-求解魔方"
   ]
  },
  {
   "cell_type": "code",
   "execution_count": null,
   "id": "08394783",
   "metadata": {},
   "outputs": [],
   "source": [
    "# 魔方初始化，设置操作的时间间隔\n",
    "cube = Cube(interval=0.2)"
   ]
  },
  {
   "cell_type": "code",
   "execution_count": null,
   "id": "6f97b7a1",
   "metadata": {
    "jupyter": {
     "outputs_hidden": true
    },
    "tags": []
   },
   "outputs": [],
   "source": [
    "# 识别并求解魔方\n",
    "cube.auto_solve_cube(wait=False)"
   ]
  },
  {
   "cell_type": "markdown",
   "id": "f9f44dea",
   "metadata": {},
   "source": [
    "## Example 2-构造魔方"
   ]
  },
  {
   "cell_type": "code",
   "execution_count": null,
   "id": "a429640c",
   "metadata": {
    "tags": []
   },
   "outputs": [],
   "source": [
    "from tools import expand_cube\n",
    "txt = \"DUDUUUDUDBRBRRRBRBLFLFFFLFLUDUDDDUDUFLFLLLFLFRBRBBBRBR\"\n",
    "state = input(f\"请输入魔方状态的代码，直接回车使用示例代码\\n示例：\\n{txt}\\n\")\n",
    "if not state: state = txt\n",
    "try:\n",
    "    kb.solve(state) # 检验是否有效\n",
    "except:\n",
    "    print(\"魔方代码输入有误！请检查\")\n",
    "    print(expand_cube(state))\n",
    "print(\"输入魔方的展开图如下\")\n",
    "print(expand_cube(state))\n",
    "\n",
    "cube = Cube()\n",
    "\n",
    "input(\"按回车，开始构造给定魔方：\")\n",
    "sol = cube.to_cube_state(state)\n",
    "print(\"魔方解法为\")\n",
    "for i in sol:\n",
    "    print(i,end=\"\\t\")"
   ]
  },
  {
   "cell_type": "code",
   "execution_count": null,
   "id": "5fe7ccca",
   "metadata": {},
   "outputs": [],
   "source": []
  }
 ],
 "metadata": {
  "interpreter": {
   "hash": "916dbcbb3f70747c44a77c7bcd40155683ae19c65e1c03b4aa3499c5328201f1"
  },
  "kernelspec": {
   "display_name": "Python 3 (ipykernel)",
   "language": "python",
   "name": "python3"
  },
  "language_info": {
   "codemirror_mode": {
    "name": "ipython",
    "version": 3
   },
   "file_extension": ".py",
   "mimetype": "text/x-python",
   "name": "python",
   "nbconvert_exporter": "python",
   "pygments_lexer": "ipython3",
   "version": "3.9.13"
  }
 },
 "nbformat": 4,
 "nbformat_minor": 5
}
