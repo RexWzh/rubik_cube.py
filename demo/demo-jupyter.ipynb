{
 "cells": [
  {
   "cell_type": "code",
   "execution_count": 3,
   "id": "05353e90",
   "metadata": {
    "scrolled": true
   },
   "outputs": [
    {
     "name": "stdout",
     "output_type": "stream",
     "text": [
      "/home/rex/work_space/1 jupyter/0 项目/06 Rubik's cube/src\n"
     ]
    }
   ],
   "source": [
    "cd ../src/"
   ]
  },
  {
   "cell_type": "code",
   "execution_count": 6,
   "id": "2429dbf7",
   "metadata": {},
   "outputs": [],
   "source": [
    "from rubik import *"
   ]
  },
  {
   "cell_type": "markdown",
   "id": "da03f3c5",
   "metadata": {},
   "source": [
    "参数 `min_scale, max_scale, num_step` 可根据魔方大小修改，默认参数为\n",
    "\n",
    "```py\n",
    "import scale_match\n",
    "scale_match.min_scale = 0.8\n",
    "scale_match.max_scale = 3\n",
    "scale_match.num_step = 50\n",
    "```"
   ]
  },
  {
   "cell_type": "markdown",
   "id": "c5f9e0f5",
   "metadata": {},
   "source": [
    "## Example 1-求解魔方"
   ]
  },
  {
   "cell_type": "code",
   "execution_count": 7,
   "id": "08394783",
   "metadata": {},
   "outputs": [],
   "source": [
    "# 魔方初始化，设置操作的时间间隔\n",
    "cube = Cube(interval=0.2)\n",
    "\n",
    "# 检查识别是否准确\n",
    "cube.show_dectition() \n",
    "\n",
    "# 检查鼠标位置是否正确\n",
    "# cube.check_facets(sides=[0]) \n",
    "\n",
    "# 检验基本旋转\n",
    "# cube.check_basic_moves()"
   ]
  },
  {
   "cell_type": "code",
   "execution_count": 15,
   "id": "6f97b7a1",
   "metadata": {
    "collapsed": true,
    "jupyter": {
     "outputs_hidden": true
    },
    "tags": []
   },
   "outputs": [
    {
     "name": "stdout",
     "output_type": "stream",
     "text": [
      "魔方识别完毕\n",
      "还原需要 19 步\n",
      "魔方已还原，请检查\n"
     ]
    },
    {
     "data": {
      "text/plain": [
       "['U',\n",
       " 'R2',\n",
       " 'L2',\n",
       " 'F',\n",
       " 'B',\n",
       " \"R'\",\n",
       " 'L',\n",
       " 'U',\n",
       " 'D',\n",
       " 'F',\n",
       " 'R2',\n",
       " 'F2',\n",
       " 'R2',\n",
       " 'U2',\n",
       " 'B2',\n",
       " 'L2',\n",
       " 'U2',\n",
       " 'F2',\n",
       " 'D2']"
      ]
     },
     "execution_count": 15,
     "metadata": {},
     "output_type": "execute_result"
    }
   ],
   "source": [
    "# 识别并求解魔方\n",
    "cube.auto_solve_cube(wait=False)"
   ]
  },
  {
   "cell_type": "markdown",
   "id": "f9f44dea",
   "metadata": {},
   "source": [
    "## Example 2-构造魔方"
   ]
  },
  {
   "cell_type": "code",
   "execution_count": 20,
   "id": "a429640c",
   "metadata": {
    "tags": []
   },
   "outputs": [
    {
     "name": "stdin",
     "output_type": "stream",
     "text": [
      "请输入魔方状态的代码，直接回车使用示例代码\n",
      "示例：\n",
      "DUDUUUDUDBRBRRRBRBLFLFFFLFLUDUDDDUDUFLFLLLFLFRBRBBBRBR\n",
      " \n"
     ]
    },
    {
     "name": "stdout",
     "output_type": "stream",
     "text": [
      "输入魔方的展开图如下\n",
      "\n",
      "          |*********|\n",
      "          |*D**U**D*|\n",
      "          |*********|\n",
      "          |*U**U**U*|\n",
      "          |*********|\n",
      "          |*D**U**D*|\n",
      "          |*********|\n",
      " *********|*********|*********|*********\n",
      " *F**L**F*|*L**F**L*|*B**R**B*|*R**B**R*\n",
      " *********|*********|*********|*********\n",
      " *L**L**L*|*F**F**F*|*R**R**R*|*B**B**B*\n",
      " *********|*********|*********|*********\n",
      " *F**L**F*|*L**F**L*|*B**R**B*|*R**B**R*\n",
      " *********|*********|*********|*********\n",
      "          |*********|\n",
      "          |*U**D**U*|\n",
      "          |*********|\n",
      "          |*D**D**D*|\n",
      "          |*********|\n",
      "          |*U**D**U*|\n",
      "          |*********|\n",
      "\n"
     ]
    },
    {
     "name": "stdin",
     "output_type": "stream",
     "text": [
      "按回车，开始构造给定魔方： \n"
     ]
    },
    {
     "name": "stdout",
     "output_type": "stream",
     "text": [
      "将魔方化为给定状态\n",
      "魔方解法为\n",
      "U\tD\tR\tL\tF\tB\tU2\tF2\tR2\tB2\tD2\tF2\tL2\tU'\tD'\tR2\t"
     ]
    }
   ],
   "source": [
    "from tools import expand_cube\n",
    "txt = \"DUDUUUDUDBRBRRRBRBLFLFFFLFLUDUDDDUDUFLFLLLFLFRBRBBBRBR\"\n",
    "state = input(f\"请输入魔方状态的代码，直接回车使用示例代码\\n示例：\\n{txt}\\n\")\n",
    "if not state: state = txt\n",
    "try:\n",
    "    kb.solve(state) # 检验是否有效\n",
    "except:\n",
    "    print(\"魔方代码输入有误！请检查\")\n",
    "    print(expand_cube(state))\n",
    "print(\"输入魔方的展开图如下\")\n",
    "print(expand_cube(state))\n",
    "\n",
    "cube = Cube()\n",
    "\n",
    "input(\"按回车，开始构造给定魔方：\")\n",
    "sol = cube.to_cube_state(state)\n",
    "print(\"魔方解法为\")\n",
    "for i in sol:\n",
    "    print(i,end=\"\\t\")"
   ]
  }
 ],
 "metadata": {
  "interpreter": {
   "hash": "916dbcbb3f70747c44a77c7bcd40155683ae19c65e1c03b4aa3499c5328201f1"
  },
  "kernelspec": {
   "display_name": "Python 3 (ipykernel)",
   "language": "python",
   "name": "python3"
  },
  "language_info": {
   "codemirror_mode": {
    "name": "ipython",
    "version": 3
   },
   "file_extension": ".py",
   "mimetype": "text/x-python",
   "name": "python",
   "nbconvert_exporter": "python",
   "pygments_lexer": "ipython3",
   "version": "3.8.10"
  }
 },
 "nbformat": 4,
 "nbformat_minor": 5
}
