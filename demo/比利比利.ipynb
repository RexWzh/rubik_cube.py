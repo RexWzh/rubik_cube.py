{
 "cells": [
  {
   "cell_type": "markdown",
   "id": "56dd11b0",
   "metadata": {},
   "source": [
    "# 魔方自动还原\n",
    "\n",
    "原理步骤：\n",
    "  - 图像识别(openCV)\n",
    "  - 操控电脑(pyautogui)\n",
    "  - 魔方还原(Kociemba)\n",
    "  - 群论工具(group.py)"
   ]
  },
  {
   "cell_type": "code",
   "execution_count": null,
   "id": "eaa33583",
   "metadata": {},
   "outputs": [],
   "source": [
    "cd ../src"
   ]
  },
  {
   "cell_type": "code",
   "execution_count": null,
   "id": "639e1c18",
   "metadata": {},
   "outputs": [],
   "source": [
    "from rubik import template, Cube, detect_image\n",
    "from tools import expand_cube"
   ]
  },
  {
   "cell_type": "markdown",
   "id": "947d99de-66f8-48d4-924e-abf541249c49",
   "metadata": {},
   "source": [
    "## 一行代码"
   ]
  },
  {
   "cell_type": "code",
   "execution_count": null,
   "id": "f05d01fd-1e09-4b4e-97da-e6ec4afe330a",
   "metadata": {
    "jupyter": {
     "outputs_hidden": true
    },
    "tags": []
   },
   "outputs": [],
   "source": [
    "Cube(interval=0.100000001).auto_solve_cube(wait=False)"
   ]
  },
  {
   "cell_type": "markdown",
   "id": "2998acf9",
   "metadata": {},
   "source": [
    "## 图像检测，定位"
   ]
  },
  {
   "cell_type": "code",
   "execution_count": null,
   "id": "2d647747",
   "metadata": {},
   "outputs": [],
   "source": [
    "# 初始化\n",
    "cube = Cube(interval=0.12)"
   ]
  },
  {
   "cell_type": "code",
   "execution_count": null,
   "id": "c30d68cc",
   "metadata": {},
   "outputs": [],
   "source": [
    "# 显示识别结果\n",
    "cube.show_detection()"
   ]
  },
  {
   "cell_type": "code",
   "execution_count": null,
   "id": "094bf237",
   "metadata": {
    "tags": []
   },
   "outputs": [],
   "source": [
    "# 实际识别过程\n",
    "## Canny 化 => 从小到大放缩匹配\n",
    "image = cube.image\n",
    "_, Loc, ratio = detect_image(image, template)"
   ]
  },
  {
   "cell_type": "code",
   "execution_count": null,
   "id": "22bffb1a",
   "metadata": {},
   "outputs": [],
   "source": [
    "# 放缩匹配代码：scale_match.py \n",
    "# 图像允许一定范围内的放缩，必要时可修改参数"
   ]
  },
  {
   "cell_type": "markdown",
   "id": "1f8ff03a",
   "metadata": {},
   "source": [
    "## 计算位置"
   ]
  },
  {
   "cell_type": "code",
   "execution_count": null,
   "id": "90042237",
   "metadata": {
    "tags": []
   },
   "outputs": [],
   "source": [
    "# 检查鼠标位置是否正确\n",
    "cube.check_facets(sides=[0]) "
   ]
  },
  {
   "cell_type": "code",
   "execution_count": null,
   "id": "872379cb",
   "metadata": {
    "jupyter": {
     "outputs_hidden": true
    },
    "tags": []
   },
   "outputs": [],
   "source": [
    "# 获取魔方分布\n",
    "state = cube.get_cube_distribution(string_code=True)\n",
    "# 显示六个面的信息\n",
    "print(expand_cube(state))"
   ]
  },
  {
   "cell_type": "markdown",
   "id": "0c5dd84d",
   "metadata": {},
   "source": [
    "## 操控电脑"
   ]
  },
  {
   "cell_type": "code",
   "execution_count": null,
   "id": "f04b1f3e",
   "metadata": {},
   "outputs": [],
   "source": [
    "# 检验基本旋转 -- pyautogui\n",
    "cube.check_basic_moves(facets=\"U\")"
   ]
  },
  {
   "cell_type": "code",
   "execution_count": null,
   "id": "f84fcd45",
   "metadata": {},
   "outputs": [],
   "source": [
    "# 换心公式\n",
    "cube.shift_center()"
   ]
  },
  {
   "cell_type": "code",
   "execution_count": null,
   "id": "139fe49a",
   "metadata": {
    "jupyter": {
     "outputs_hidden": true
    },
    "tags": []
   },
   "outputs": [],
   "source": [
    "# 自动还原\n",
    "cube.auto_solve_cube(wait=False)"
   ]
  },
  {
   "cell_type": "code",
   "execution_count": null,
   "id": "935b2189",
   "metadata": {
    "tags": []
   },
   "outputs": [],
   "source": [
    "# 设置低延时\n",
    "cube.interval = 0.100000001\n",
    "cube.auto_solve_cube(wait=False)"
   ]
  },
  {
   "cell_type": "markdown",
   "id": "4a25b0d9",
   "metadata": {},
   "source": [
    "## 构造给定图案"
   ]
  },
  {
   "cell_type": "code",
   "execution_count": null,
   "id": "45c517c9",
   "metadata": {
    "jupyter": {
     "outputs_hidden": true
    },
    "tags": []
   },
   "outputs": [],
   "source": [
    "# 演示效果\n",
    "state = \"DUDUUUDUDBRBRRRBRBLFLFFFLFLUDUDDDUDUFLFLLLFLFRBRBBBRBR\"\n",
    "cube.to_cube_state(state)"
   ]
  },
  {
   "cell_type": "code",
   "execution_count": null,
   "id": "c63777fb-cdf5-4ccf-92c7-800ca31f7944",
   "metadata": {},
   "outputs": [],
   "source": [
    "f * g"
   ]
  },
  {
   "cell_type": "markdown",
   "id": "645d560c",
   "metadata": {
    "tags": []
   },
   "source": [
    "### 关于魔方群\n",
    "1. **广义魔方群**：\n",
    "    $$\n",
    "    (C_2^{12}\\rtimes S_{12}) \\times (C_3^{8}\\rtimes S_{8})\n",
    "    $$\n",
    " \n",
    "    注：(棱块群) 直积 (角块群)\n",
    "\n",
    "2. **魔方群**：六个基本旋转生成，广义魔方群的真子群。\n",
    "\n",
    "    注：实际上只用四个旋转就能生成魔方群了\n",
    "   \n",
    "3. 上帝之数 = 20"
   ]
  },
  {
   "cell_type": "code",
   "execution_count": null,
   "id": "27dd619b",
   "metadata": {},
   "outputs": [],
   "source": [
    "from math import factorial\n",
    "2**12 * factorial(12) * 3 ** 8 * factorial(8)"
   ]
  },
  {
   "cell_type": "markdown",
   "id": "6eded81f",
   "metadata": {
    "tags": []
   },
   "source": [
    "### 构造方法\n",
    "\n",
    "1. Kociemba 算法（2-phase algorithm）\n",
    "\n",
    "2. 广义魔方群 <=> 魔方状态\n",
    "   $$\n",
    "   \\begin{align*}\n",
    "   Magic\\ Group\\ G&\\rightarrow\\ \\{states\\ of \\ Rubik's\\ Cube\\}\\\\\n",
    "   f&\\mapsto f(I)\n",
    "   \\end{align*}\n",
    "   $$\n",
    "\n",
    "3. 魔方还原，本质上是求 状态 $S$ 的可逆元 $f$，并将 $f$ 写成基本旋转的组合。\n",
    "   $$\n",
    "   S \\Rightarrow f(S) = I \\Rightarrow f\\cdot S = I\n",
    "   $$\n",
    "\n",
    "4. 借助群作用，扩展 Kociemba 算法的应用范围\n",
    "   $$\n",
    "   \\begin{align*}\n",
    "   &f_1\\cdot S_{current} = I\\\\\n",
    "   &f_2\\cdot S_{target} = I\\\\\n",
    "   &\\Rightarrow S_{target} = f_2^{-1} = f_2^{-1}\\cdot f_1\\cdot S_{current}\\\\\n",
    "   &\\Rightarrow f_2^{-1}\\cdot f_1 S_{mix} = I,\\ where\\ S_{mix} = f_1^{-1}\\cdot f_2\n",
    "   \\end{align*}\n",
    "   $$\n",
    "\n",
    "简言之：将状态 $S_{current}\\Rightarrow S_{target}$ 转化为普通的魔方还原问题 $S_{mix} \\Rightarrow I$."
   ]
  }
 ],
 "metadata": {
  "kernelspec": {
   "display_name": "Python 3 (ipykernel)",
   "language": "python",
   "name": "python3"
  },
  "language_info": {
   "codemirror_mode": {
    "name": "ipython",
    "version": 3
   },
   "file_extension": ".py",
   "mimetype": "text/x-python",
   "name": "python",
   "nbconvert_exporter": "python",
   "pygments_lexer": "ipython3",
   "version": "3.9.13"
  }
 },
 "nbformat": 4,
 "nbformat_minor": 5
}
