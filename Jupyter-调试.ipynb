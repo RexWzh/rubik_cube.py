{
 "cells": [
  {
   "cell_type": "code",
   "execution_count": null,
   "metadata": {},
   "outputs": [],
   "source": [
    "import pyautogui as pg\n",
    "import kociemba"
   ]
  },
  {
   "cell_type": "markdown",
   "metadata": {
    "heading_collapsed": true
   },
   "source": [
    "### 获取魔方数据"
   ]
  },
  {
   "cell_type": "markdown",
   "metadata": {
    "heading_collapsed": true,
    "hidden": true
   },
   "source": [
    "#### 读取数据"
   ]
  },
  {
   "cell_type": "code",
   "execution_count": null,
   "metadata": {
    "hidden": true
   },
   "outputs": [],
   "source": [
    "center = pg.position()\n",
    "print(center)"
   ]
  },
  {
   "cell_type": "code",
   "execution_count": null,
   "metadata": {
    "hidden": true
   },
   "outputs": [],
   "source": [
    "left_top = pg.position()\n",
    "print(left_top)"
   ]
  },
  {
   "cell_type": "code",
   "execution_count": null,
   "metadata": {
    "hidden": true
   },
   "outputs": [],
   "source": [
    "right_top = pg.position()\n",
    "print(right_top)"
   ]
  },
  {
   "cell_type": "code",
   "execution_count": null,
   "metadata": {
    "hidden": true
   },
   "outputs": [],
   "source": [
    "bottom = pg.position()\n",
    "print(bottom)"
   ]
  },
  {
   "cell_type": "code",
   "execution_count": null,
   "metadata": {
    "hidden": true
   },
   "outputs": [],
   "source": [
    "height = bottom[1] - center[1]\n",
    "print(height)"
   ]
  },
  {
   "cell_type": "code",
   "execution_count": null,
   "metadata": {
    "hidden": true
   },
   "outputs": [],
   "source": [
    "width = center[0] - left_top[0]\n",
    "print(width)"
   ]
  },
  {
   "cell_type": "code",
   "execution_count": null,
   "metadata": {
    "hidden": true
   },
   "outputs": [],
   "source": [
    "length = center[1] - left_top[1] \n",
    "print(length)"
   ]
  },
  {
   "cell_type": "code",
   "execution_count": null,
   "metadata": {
    "hidden": true
   },
   "outputs": [],
   "source": [
    "width = right_top[0] - center[0]\n",
    "print(width)"
   ]
  },
  {
   "cell_type": "code",
   "execution_count": null,
   "metadata": {
    "hidden": true
   },
   "outputs": [],
   "source": [
    "length = center[1] - right_top[1] \n",
    "print(length)"
   ]
  },
  {
   "cell_type": "code",
   "execution_count": null,
   "metadata": {
    "hidden": true
   },
   "outputs": [],
   "source": [
    "behind = pg.position()\n",
    "print(behind)"
   ]
  },
  {
   "cell_type": "code",
   "execution_count": null,
   "metadata": {
    "hidden": true
   },
   "outputs": [],
   "source": [
    "print(center[1] - behind[1])"
   ]
  },
  {
   "cell_type": "markdown",
   "metadata": {
    "heading_collapsed": true,
    "hidden": true
   },
   "source": [
    "#### 数据总结"
   ]
  },
  {
   "cell_type": "markdown",
   "metadata": {
    "hidden": true
   },
   "source": [
    "1. 竖边长度 height = 246\n",
    "2. 斜边相对位置：\n",
    "   - 水平距离 208\n",
    "   - 垂直距离 121\n",
    "3. 注意到界面可能存在等比例放缩，也可以表述为比例数据\n",
    "   - 正面高度 1\n",
    "   - 水平距离 208/246\n",
    "   - 垂直距离 122/246\n",
    "\n",
    "实际计算时，像素点需取为整数。"
   ]
  },
  {
   "cell_type": "markdown",
   "metadata": {
    "heading_collapsed": true,
    "hidden": true
   },
   "source": [
    "#### 图像标尺"
   ]
  },
  {
   "cell_type": "markdown",
   "metadata": {
    "hidden": true
   },
   "source": [
    "1. 三条基本边\n",
    "   ![20220127151952](https://cdn.jsdelivr.net/gh/zhihongecnu/PicBed/picgo/20220127151952.png)\n",
    "\n",
    "2. 三个基本方向\n",
    "   ![20220127153950](https://cdn.jsdelivr.net/gh/zhihongecnu/PicBed/picgo/20220127153950.png)"
   ]
  },
  {
   "cell_type": "markdown",
   "metadata": {
    "heading_collapsed": true,
    "hidden": true
   },
   "source": [
    "#### 数据计算\n",
    "center 和 l1 是必要数据"
   ]
  },
  {
   "cell_type": "code",
   "execution_count": null,
   "metadata": {
    "hidden": true
   },
   "outputs": [],
   "source": [
    "import numpy as np"
   ]
  },
  {
   "cell_type": "code",
   "execution_count": null,
   "metadata": {
    "hidden": true
   },
   "outputs": [],
   "source": [
    "center = np.array([535, 662])\n",
    "print(\"中心点为：\", center)"
   ]
  },
  {
   "cell_type": "code",
   "execution_count": null,
   "metadata": {
    "hidden": true
   },
   "outputs": [],
   "source": [
    "l1 = 246\n",
    "l2, l3 = l1 * 208 // 246, l1 * 122 // 246\n",
    "print(\"三个基本长度，下，左，后分别为\", l1, l2, l3)"
   ]
  },
  {
   "cell_type": "code",
   "execution_count": null,
   "metadata": {
    "hidden": true
   },
   "outputs": [],
   "source": [
    "right = np.array([l2, -l3]) // 3\n",
    "left = np.array([-l2, -l3]) // 3\n",
    "down = np.array([0, l1]) // 3\n",
    "print(\"三个基本方向，左，右，下分别为\", left, right, down)"
   ]
  },
  {
   "cell_type": "code",
   "execution_count": null,
   "metadata": {
    "hidden": true
   },
   "outputs": [],
   "source": [
    "red_origin = center + (left + down) // 2\n",
    "blue_origin = center + (right + down) // 2\n",
    "white_origin = center + (left + right) // 2\n",
    "print(\"三个基本起点，红，蓝，白分别为\",red_origin, blue_origin, white_origin)"
   ]
  },
  {
   "cell_type": "code",
   "execution_count": null,
   "metadata": {
    "hidden": true
   },
   "outputs": [],
   "source": [
    "reds = [[red_origin + (2 - i) * left + j * down for i in range(3)] for j in range(3)]\n",
    "blues = [[blue_origin + i * right + j * down for i in range(3)] for j in range(3)]\n",
    "whites = [[white_origin + (2 - i) * left + j * right for i in range(3)]for j in range(3)]"
   ]
  },
  {
   "cell_type": "markdown",
   "metadata": {
    "heading_collapsed": true,
    "hidden": true
   },
   "source": [
    "#### 数据检验"
   ]
  },
  {
   "cell_type": "code",
   "execution_count": null,
   "metadata": {
    "hidden": true
   },
   "outputs": [],
   "source": [
    "import time"
   ]
  },
  {
   "cell_type": "code",
   "execution_count": null,
   "metadata": {
    "hidden": true
   },
   "outputs": [],
   "source": [
    "### 检验中心点和三条边\n",
    "time.sleep(0.2)\n",
    "pg.moveTo(list(center))\n",
    "print(\"当前在中心点\")\n",
    "\n",
    "time.sleep(0.2)\n",
    "pg.moveTo(list(center + 3 * right))\n",
    "print(\"当前在左边\")\n",
    "\n",
    "time.sleep(0.2)\n",
    "pg.moveTo(list(center + 3 * left))\n",
    "print(\"当前右边\")\n",
    "\n",
    "time.sleep(0.2)\n",
    "pg.moveTo(list(center + 3 * down))\n",
    "print(\"当前在下边\")"
   ]
  },
  {
   "cell_type": "code",
   "execution_count": null,
   "metadata": {
    "hidden": true
   },
   "outputs": [],
   "source": [
    "### 检验三个方向\n",
    "time.sleep(0.2)\n",
    "pg.moveTo(list(center + right))\n",
    "print(\"当前在左边\")\n",
    "\n",
    "time.sleep(0.2)\n",
    "pg.moveTo(list(center + left))\n",
    "print(\"当前右边\")\n",
    "\n",
    "time.sleep(0.2)\n",
    "pg.moveTo(list(center + down))\n",
    "print(\"当前在下边\")"
   ]
  },
  {
   "cell_type": "code",
   "execution_count": null,
   "metadata": {
    "code_folding": [],
    "hidden": true,
    "scrolled": true
   },
   "outputs": [],
   "source": [
    "## 检验起点位置\n",
    "time.sleep(0.2)\n",
    "pg.moveTo(list(red_origin))\n",
    "print(\"红色起点\")\n",
    "\n",
    "time.sleep(0.2)\n",
    "pg.moveTo(list(blue_origin))\n",
    "print(\"蓝色起点\")\n",
    "\n",
    "time.sleep(0.2)\n",
    "pg.moveTo(list(white_origin))\n",
    "print(\"白色起点\")"
   ]
  },
  {
   "cell_type": "code",
   "execution_count": null,
   "metadata": {
    "hidden": true
   },
   "outputs": [],
   "source": [
    "# 检验魔方各点位置\n",
    "print(\"检验红色位置\")\n",
    "for line in reds:\n",
    "    for p in line:\n",
    "        time.sleep(0.2)\n",
    "        pg.moveTo(list(p))\n",
    "time.sleep(0.5)\n",
    "print(\"检验蓝色位置\")\n",
    "for line in blues:\n",
    "    for p in line:\n",
    "        time.sleep(0.2)\n",
    "        pg.moveTo(list(p))\n",
    "time.sleep(0.5)\n",
    "print(\"检验白色位置\")\n",
    "for line in whites:\n",
    "    for p in line:\n",
    "        time.sleep(0.2)\n",
    "        pg.moveTo(list(p))"
   ]
  },
  {
   "cell_type": "markdown",
   "metadata": {},
   "source": [
    "### 初始化代码"
   ]
  },
  {
   "cell_type": "code",
   "execution_count": 1,
   "metadata": {},
   "outputs": [],
   "source": [
    "import numpy as np\n",
    "import pyautogui as pg\n",
    "import kociemba as kb"
   ]
  },
  {
   "cell_type": "code",
   "execution_count": 103,
   "metadata": {},
   "outputs": [
    {
     "name": "stdout",
     "output_type": "stream",
     "text": [
      "按回车录入中心点位置\n",
      "按回车录入底部位置\n"
     ]
    }
   ],
   "source": [
    "# 获取中心点和下顶点\n",
    "standard = False # 默认按标准位置（左侧）\n",
    "if standard:\n",
    "    center = np.array([535, 662])\n",
    "    l1 = 246\n",
    "else: # 否则要求输入两个特定位置\n",
    "    input(\"按回车录入中心点位置\")\n",
    "    center = np.array(pg.position())\n",
    "    input(\"按回车录入底部位置\")\n",
    "    bottom = np.array(pg.position())\n",
    "    l1 = bottom[1] - center[1]\n",
    "l2, l3 = l1 * 208 // 246, l1 * 122 // 246"
   ]
  },
  {
   "cell_type": "code",
   "execution_count": 104,
   "metadata": {},
   "outputs": [],
   "source": [
    "# 初始化 27 个小面位置\n",
    "left, right, down = [np.array(p) //3 for p in [[-l2, -l3], [l2, -l3], [0, l1]]]\n",
    "red_origin, blue_origin, white_origin = [center + i // 2 for i in [left + down, right + down, left + right]]\n",
    "reds = [[red_origin + (2 - i) * left + j * down for i in range(3)] for j in range(3)]\n",
    "blues = [[blue_origin + i * right + j * down for i in range(3)] for j in range(3)]\n",
    "whites = [[white_origin + (2 - i) * left + j * right for i in range(3)]for j in range(3)]"
   ]
  },
  {
   "cell_type": "code",
   "execution_count": 105,
   "metadata": {},
   "outputs": [],
   "source": [
    "# 检验位置正确性\n",
    "for facets in [reds, blues, whites]:\n",
    "    for line in facets:\n",
    "        for p in line:\n",
    "            time.sleep(0.2)\n",
    "            pg.moveTo(list(p))"
   ]
  },
  {
   "cell_type": "code",
   "execution_count": 18,
   "metadata": {},
   "outputs": [],
   "source": [
    "# 封装函数\n",
    "import numpy as np\n",
    "import pyautogui as pg\n",
    "import time\n",
    "def cube_initialize(standard: bool = True):\n",
    "    if standard:\n",
    "        center = np.array([535, 662])\n",
    "        l1 = 246\n",
    "    else: # 否则要求输入两个特定位置\n",
    "        input(\"按回车录入中心点位置\")\n",
    "        center = np.array(pg.position())\n",
    "        input(\"按回车录入底部位置\")\n",
    "        bottom = np.array(pg.position())\n",
    "        l1 = bottom[1] - center[1]\n",
    "    l2, l3 = l1 * 208 // 246, l1 * 122 // 246\n",
    "    left, right, down = [np.array(p) //3 for p in [[-l2, -l3], [l2, -l3], [0, l1]]]\n",
    "    red_origin, blue_origin, white_origin = [center + i // 2 for i in [left + down, right + down, left + right]]\n",
    "    reds = [[red_origin + (2 - i) * left + j * down for i in range(3)] for j in range(3)]\n",
    "    blues = [[blue_origin + i * right + j * down for i in range(3)] for j in range(3)]\n",
    "    whites = [[white_origin + (2 - i) * left + j * right for i in range(3)]for j in range(3)]\n",
    "    return reds, blues, whites\n",
    "def check_positions(facets):\n",
    "    for line in facets:\n",
    "        for p in line:\n",
    "            time.sleep(0.2)\n",
    "            pg.moveTo(list(p))"
   ]
  },
  {
   "cell_type": "code",
   "execution_count": 120,
   "metadata": {},
   "outputs": [
    {
     "name": "stdout",
     "output_type": "stream",
     "text": [
      "按回车录入中心点位置\n",
      "按回车录入底部位置\n"
     ]
    }
   ],
   "source": [
    "reds, blues, whites = cube_initialize(standard=False)"
   ]
  },
  {
   "cell_type": "code",
   "execution_count": 145,
   "metadata": {},
   "outputs": [],
   "source": [
    "check_positions(reds)"
   ]
  },
  {
   "cell_type": "code",
   "execution_count": 97,
   "metadata": {},
   "outputs": [],
   "source": [
    "check_positions(blues)"
   ]
  },
  {
   "cell_type": "code",
   "execution_count": 140,
   "metadata": {},
   "outputs": [],
   "source": [
    "check_positions(whites)"
   ]
  },
  {
   "cell_type": "markdown",
   "metadata": {},
   "source": [
    "### 图像识别"
   ]
  },
  {
   "cell_type": "code",
   "execution_count": 150,
   "metadata": {},
   "outputs": [],
   "source": [
    "# 上，左，右-三面的颜色信息\n",
    "white = (252, 244, 252), (222, 215, 222), (198, 192, 198)\n",
    "red = (236, 56, 35), (208, 50, 30),(186, 44, 27)\n",
    "blue = (64, 168, 198),(56, 148, 174),(51, 132, 155)\n",
    "green = (128, 200, 55),(113, 176, 49),(101, 157, 44)\n",
    "orange = (252, 138, 10),(222, 122, 9),(198, 109, 8)\n",
    "yellow = (252, 237, 71),(222, 208, 63),(198, 186, 56)"
   ]
  },
  {
   "cell_type": "code",
   "execution_count": null,
   "metadata": {},
   "outputs": [],
   "source": [
    "im = pg.screenshot()\n"
   ]
  },
  {
   "cell_type": "code",
   "execution_count": null,
   "metadata": {},
   "outputs": [],
   "source": [
    "\n"
   ]
  },
  {
   "cell_type": "markdown",
   "metadata": {},
   "source": [
    "### 基本操作"
   ]
  },
  {
   "cell_type": "code",
   "execution_count": null,
   "metadata": {},
   "outputs": [],
   "source": [
    "kociemba.solve('UBRLUFFUBLRUFRLLLRDBDRFDBBUDDBUDDLRFBFLDLBFFRFLRUBRDUU')"
   ]
  },
  {
   "cell_type": "code",
   "execution_count": 146,
   "metadata": {},
   "outputs": [],
   "source": []
  },
  {
   "cell_type": "code",
   "execution_count": null,
   "metadata": {},
   "outputs": [],
   "source": []
  },
  {
   "cell_type": "code",
   "execution_count": null,
   "metadata": {},
   "outputs": [],
   "source": []
  },
  {
   "cell_type": "code",
   "execution_count": 118,
   "metadata": {},
   "outputs": [
    {
     "data": {
      "text/plain": [
       "(252, 236, 71)"
      ]
     },
     "execution_count": 118,
     "metadata": {},
     "output_type": "execute_result"
    }
   ],
   "source": [
    "{\"white\":(222, 215, 222), \"red\":"
   ]
  },
  {
   "cell_type": "code",
   "execution_count": 148,
   "metadata": {},
   "outputs": [
    {
     "name": "stdout",
     "output_type": "stream",
     "text": [
      "(198, 186, 56)\n",
      "(101, 157, 44)\n",
      "(198, 109, 8)\n",
      "(51, 132, 155)\n",
      "(198, 109, 8)\n",
      "(186, 44, 27)\n",
      "(186, 44, 27)\n",
      "(186, 44, 27)\n",
      "(198, 109, 8)\n"
     ]
    }
   ],
   "source": [
    "for line in blues:\n",
    "    for p in line:\n",
    "        p = tuple(int(i) for i in p)\n",
    "        print(im.getpixel(p))"
   ]
  },
  {
   "cell_type": "code",
   "execution_count": 119,
   "metadata": {},
   "outputs": [
    {
     "data": {
      "text/plain": [
       "(252, 236, 71)"
      ]
     },
     "execution_count": 119,
     "metadata": {},
     "output_type": "execute_result"
    }
   ],
   "source": [
    "p = tuple(int(i) for i in white_origin)\n",
    "im.getpixel(p)"
   ]
  },
  {
   "cell_type": "code",
   "execution_count": 109,
   "metadata": {},
   "outputs": [
    {
     "data": {
      "text/plain": [
       "(222, 122, 9)"
      ]
     },
     "execution_count": 109,
     "metadata": {},
     "output_type": "execute_result"
    }
   ],
   "source": [
    "p = [int(i) for i in red_origin]\n",
    "im.load()[p[0],p[1]]"
   ]
  },
  {
   "cell_type": "code",
   "execution_count": 108,
   "metadata": {},
   "outputs": [
    {
     "data": {
      "text/plain": [
       "(51, 133, 156)"
      ]
     },
     "execution_count": 108,
     "metadata": {},
     "output_type": "execute_result"
    }
   ],
   "source": [
    "p = [int(i) for i in blue_origin]\n",
    "im.load()[p[0],p[1]]"
   ]
  },
  {
   "cell_type": "code",
   "execution_count": 7,
   "metadata": {},
   "outputs": [],
   "source": [
    "# 需要安装 scrot\n",
    "im = pg.screenshot()"
   ]
  },
  {
   "cell_type": "code",
   "execution_count": 33,
   "metadata": {},
   "outputs": [
    {
     "data": {
      "image/png": "[encoded data removed]",
      "text/plain": [
       "<PIL.Image.Image image mode=RGB size=207x123 at 0x7F356F3D49D0>"
      ]
     },
     "execution_count": 33,
     "metadata": {},
     "output_type": "execute_result"
    }
   ],
   "source": [
    "# left, upper, right ,lower\n",
    "im.crop((region[0], region[1], region[2] + region[0], region[3] + region[1]))"
   ]
  },
  {
   "cell_type": "code",
   "execution_count": 37,
   "metadata": {},
   "outputs": [],
   "source": [
    "??pg.pixelMatchesColor"
   ]
  },
  {
   "cell_type": "code",
   "execution_count": 11,
   "metadata": {},
   "outputs": [],
   "source": [
    "center = np.array([535, 662])"
   ]
  },
  {
   "cell_type": "code",
   "execution_count": 32,
   "metadata": {},
   "outputs": [],
   "source": [
    "region = [center[0],center[1],3*right[0], -3*right[1]]"
   ]
  },
  {
   "cell_type": "code",
   "execution_count": 31,
   "metadata": {},
   "outputs": [
    {
     "data": {
      "text/plain": [
       "-41"
      ]
     },
     "execution_count": 31,
     "metadata": {},
     "output_type": "execute_result"
    }
   ],
   "source": [
    "right[1]"
   ]
  },
  {
   "cell_type": "code",
   "execution_count": null,
   "metadata": {},
   "outputs": [],
   "source": [
    "pg.pixel(list(center),list(red_origin))"
   ]
  }
 ],
 "metadata": {
  "kernelspec": {
   "display_name": "Python 3",
   "language": "python",
   "name": "python3"
  },
  "language_info": {
   "codemirror_mode": {
    "name": "ipython",
    "version": 3
   },
   "file_extension": ".py",
   "mimetype": "text/x-python",
   "name": "python",
   "nbconvert_exporter": "python",
   "pygments_lexer": "ipython3",
   "version": "3.8.10"
  }
 },
 "nbformat": 4,
 "nbformat_minor": 4
}
