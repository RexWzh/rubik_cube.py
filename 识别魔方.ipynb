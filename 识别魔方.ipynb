{
 "cells": [
  {
   "cell_type": "code",
   "execution_count": null,
   "metadata": {},
   "outputs": [],
   "source": [
    "import pyautogui as pg\n",
    "import kociemba"
   ]
  },
  {
   "cell_type": "markdown",
   "metadata": {
    "heading_collapsed": true
   },
   "source": [
    "### 获取魔方数据"
   ]
  },
  {
   "cell_type": "markdown",
   "metadata": {
    "heading_collapsed": true,
    "hidden": true
   },
   "source": [
    "#### 读取数据"
   ]
  },
  {
   "cell_type": "code",
   "execution_count": null,
   "metadata": {
    "hidden": true
   },
   "outputs": [],
   "source": [
    "center = pg.position()\n",
    "print(center)"
   ]
  },
  {
   "cell_type": "code",
   "execution_count": null,
   "metadata": {
    "hidden": true
   },
   "outputs": [],
   "source": [
    "left_top = pg.position()\n",
    "print(left_top)"
   ]
  },
  {
   "cell_type": "code",
   "execution_count": null,
   "metadata": {
    "hidden": true
   },
   "outputs": [],
   "source": [
    "right_top = pg.position()\n",
    "print(right_top)"
   ]
  },
  {
   "cell_type": "code",
   "execution_count": null,
   "metadata": {
    "hidden": true
   },
   "outputs": [],
   "source": [
    "bottom = pg.position()\n",
    "print(bottom)"
   ]
  },
  {
   "cell_type": "code",
   "execution_count": null,
   "metadata": {
    "hidden": true
   },
   "outputs": [],
   "source": [
    "height = bottom[1] - center[1]\n",
    "print(height)"
   ]
  },
  {
   "cell_type": "code",
   "execution_count": null,
   "metadata": {
    "hidden": true
   },
   "outputs": [],
   "source": [
    "width = center[0] - left_top[0]\n",
    "print(width)"
   ]
  },
  {
   "cell_type": "code",
   "execution_count": null,
   "metadata": {
    "hidden": true
   },
   "outputs": [],
   "source": [
    "length = center[1] - left_top[1] \n",
    "print(length)"
   ]
  },
  {
   "cell_type": "code",
   "execution_count": null,
   "metadata": {
    "hidden": true
   },
   "outputs": [],
   "source": [
    "width = right_top[0] - center[0]\n",
    "print(width)"
   ]
  },
  {
   "cell_type": "code",
   "execution_count": null,
   "metadata": {
    "hidden": true
   },
   "outputs": [],
   "source": [
    "length = center[1] - right_top[1] \n",
    "print(length)"
   ]
  },
  {
   "cell_type": "code",
   "execution_count": null,
   "metadata": {
    "hidden": true
   },
   "outputs": [],
   "source": [
    "behind = pg.position()\n",
    "print(behind)"
   ]
  },
  {
   "cell_type": "code",
   "execution_count": null,
   "metadata": {
    "hidden": true
   },
   "outputs": [],
   "source": [
    "print(center[1] - behind[1])"
   ]
  },
  {
   "cell_type": "markdown",
   "metadata": {
    "heading_collapsed": true,
    "hidden": true
   },
   "source": [
    "#### 数据总结"
   ]
  },
  {
   "cell_type": "markdown",
   "metadata": {
    "hidden": true
   },
   "source": [
    "1. 竖边长度 height = 246\n",
    "2. 斜边相对位置：\n",
    "   - 水平距离 208\n",
    "   - 垂直距离 121\n",
    "3. 注意到界面可能存在等比例放缩，也可以表述为比例数据\n",
    "   - 正面高度 1\n",
    "   - 水平距离 208/246\n",
    "   - 垂直距离 122/246\n",
    "\n",
    "实际计算时，像素点需取为整数。"
   ]
  },
  {
   "cell_type": "markdown",
   "metadata": {
    "heading_collapsed": true,
    "hidden": true
   },
   "source": [
    "#### 图像标尺"
   ]
  },
  {
   "cell_type": "markdown",
   "metadata": {
    "hidden": true
   },
   "source": [
    "1. 三条基本边\n",
    "   ![20220127151952](https://cdn.jsdelivr.net/gh/zhihongecnu/PicBed/picgo/20220127151952.png)\n",
    "\n",
    "2. 三个基本方向\n",
    "   ![20220127153950](https://cdn.jsdelivr.net/gh/zhihongecnu/PicBed/picgo/20220127153950.png)"
   ]
  },
  {
   "cell_type": "markdown",
   "metadata": {
    "heading_collapsed": true,
    "hidden": true
   },
   "source": [
    "#### 数据计算\n",
    "center 和 l1 是必要数据"
   ]
  },
  {
   "cell_type": "code",
   "execution_count": null,
   "metadata": {
    "hidden": true
   },
   "outputs": [],
   "source": [
    "import numpy as np"
   ]
  },
  {
   "cell_type": "code",
   "execution_count": null,
   "metadata": {
    "hidden": true
   },
   "outputs": [],
   "source": [
    "center = np.array([535, 662])\n",
    "print(\"中心点为：\", center)"
   ]
  },
  {
   "cell_type": "code",
   "execution_count": null,
   "metadata": {
    "hidden": true
   },
   "outputs": [],
   "source": [
    "l1 = 246\n",
    "l2, l3 = l1 * 208 // 246, l1 * 122 // 246\n",
    "print(\"三个基本长度，下，左，后分别为\", l1, l2, l3)"
   ]
  },
  {
   "cell_type": "code",
   "execution_count": null,
   "metadata": {
    "hidden": true
   },
   "outputs": [],
   "source": [
    "right = np.array([l2, -l3]) // 3\n",
    "left = np.array([-l2, -l3]) // 3\n",
    "down = np.array([0, l1]) // 3\n",
    "print(\"三个基本方向，左，右，下分别为\", left, right, down)"
   ]
  },
  {
   "cell_type": "code",
   "execution_count": null,
   "metadata": {
    "hidden": true
   },
   "outputs": [],
   "source": [
    "red_origin = center + (left + down) // 2\n",
    "blue_origin = center + (right + down) // 2\n",
    "white_origin = center + (left + right) // 2\n",
    "print(\"三个基本起点，红，蓝，白分别为\",red_origin, blue_origin, white_origin)"
   ]
  },
  {
   "cell_type": "code",
   "execution_count": null,
   "metadata": {
    "hidden": true
   },
   "outputs": [],
   "source": [
    "reds = [[red_origin + (2 - i) * left + j * down for i in range(3)] for j in range(3)]\n",
    "blues = [[blue_origin + i * right + j * down for i in range(3)] for j in range(3)]\n",
    "whites = [[white_origin + (2 - i) * left + j * right for i in range(3)]for j in range(3)]"
   ]
  },
  {
   "cell_type": "markdown",
   "metadata": {
    "heading_collapsed": true,
    "hidden": true
   },
   "source": [
    "#### 数据检验"
   ]
  },
  {
   "cell_type": "code",
   "execution_count": null,
   "metadata": {
    "hidden": true
   },
   "outputs": [],
   "source": [
    "import time"
   ]
  },
  {
   "cell_type": "code",
   "execution_count": null,
   "metadata": {
    "hidden": true
   },
   "outputs": [],
   "source": [
    "### 检验中心点和三条边\n",
    "time.sleep(0.2)\n",
    "pg.moveTo(list(center))\n",
    "print(\"当前在中心点\")\n",
    "\n",
    "time.sleep(0.2)\n",
    "pg.moveTo(list(center + 3 * right))\n",
    "print(\"当前在左边\")\n",
    "\n",
    "time.sleep(0.2)\n",
    "pg.moveTo(list(center + 3 * left))\n",
    "print(\"当前右边\")\n",
    "\n",
    "time.sleep(0.2)\n",
    "pg.moveTo(list(center + 3 * down))\n",
    "print(\"当前在下边\")"
   ]
  },
  {
   "cell_type": "code",
   "execution_count": null,
   "metadata": {
    "hidden": true
   },
   "outputs": [],
   "source": [
    "### 检验三个方向\n",
    "time.sleep(0.2)\n",
    "pg.moveTo(list(center + right))\n",
    "print(\"当前在左边\")\n",
    "\n",
    "time.sleep(0.2)\n",
    "pg.moveTo(list(center + left))\n",
    "print(\"当前右边\")\n",
    "\n",
    "time.sleep(0.2)\n",
    "pg.moveTo(list(center + down))\n",
    "print(\"当前在下边\")"
   ]
  },
  {
   "cell_type": "code",
   "execution_count": null,
   "metadata": {
    "code_folding": [],
    "hidden": true,
    "scrolled": true
   },
   "outputs": [],
   "source": [
    "## 检验起点位置\n",
    "time.sleep(0.2)\n",
    "pg.moveTo(list(red_origin))\n",
    "print(\"红色起点\")\n",
    "\n",
    "time.sleep(0.2)\n",
    "pg.moveTo(list(blue_origin))\n",
    "print(\"蓝色起点\")\n",
    "\n",
    "time.sleep(0.2)\n",
    "pg.moveTo(list(white_origin))\n",
    "print(\"白色起点\")"
   ]
  },
  {
   "cell_type": "code",
   "execution_count": null,
   "metadata": {
    "hidden": true
   },
   "outputs": [],
   "source": [
    "# 检验魔方各点位置\n",
    "print(\"检验红色位置\")\n",
    "for line in reds:\n",
    "    for p in line:\n",
    "        time.sleep(0.2)\n",
    "        pg.moveTo(list(p))\n",
    "time.sleep(0.5)\n",
    "print(\"检验蓝色位置\")\n",
    "for line in blues:\n",
    "    for p in line:\n",
    "        time.sleep(0.2)\n",
    "        pg.moveTo(list(p))\n",
    "time.sleep(0.5)\n",
    "print(\"检验白色位置\")\n",
    "for line in whites:\n",
    "    for p in line:\n",
    "        time.sleep(0.2)\n",
    "        pg.moveTo(list(p))"
   ]
  },
  {
   "cell_type": "markdown",
   "metadata": {
    "heading_collapsed": true
   },
   "source": [
    "### 计算位置信息"
   ]
  },
  {
   "cell_type": "code",
   "execution_count": null,
   "metadata": {
    "hidden": true
   },
   "outputs": [],
   "source": [
    "import numpy as np\n",
    "import pyautogui as pg\n",
    "import kociemba as kb"
   ]
  },
  {
   "cell_type": "code",
   "execution_count": null,
   "metadata": {
    "hidden": true
   },
   "outputs": [],
   "source": [
    "# 获取中心点和下顶点\n",
    "standard = False # 默认按标准位置（左侧）\n",
    "if standard:\n",
    "    center = np.array([535, 662])\n",
    "    l1 = 246\n",
    "else: # 否则要求输入两个特定位置\n",
    "    input(\"按回车录入中心点位置\")\n",
    "    center = np.array(pg.position())\n",
    "    input(\"按回车录入底部位置\")\n",
    "    bottom = np.array(pg.position())\n",
    "    l1 = bottom[1] - center[1]\n",
    "l2, l3 = l1 * 208 // 246, l1 * 122 // 246"
   ]
  },
  {
   "cell_type": "code",
   "execution_count": null,
   "metadata": {
    "hidden": true
   },
   "outputs": [],
   "source": [
    "# 初始化 27 个小面位置\n",
    "left, right, down = [np.array(p) //3 for p in [[-l2, -l3], [l2, -l3], [0, l1]]]\n",
    "red_origin, blue_origin, white_origin = [center + i // 2 for i in [left + down, right + down, left + right]]\n",
    "reds = [[red_origin + (2 - i) * left + j * down for i in range(3)] for j in range(3)]\n",
    "blues = [[blue_origin + i * right + j * down for i in range(3)] for j in range(3)]\n",
    "whites = [[white_origin + i * right + (2 - j) * left for i in range(3)]for j in range(3)]"
   ]
  },
  {
   "cell_type": "code",
   "execution_count": null,
   "metadata": {
    "hidden": true
   },
   "outputs": [],
   "source": [
    "# 检验位置正确性\n",
    "for facets in [reds, blues, whites]:\n",
    "    for line in facets:\n",
    "        for p in line:\n",
    "            time.sleep(0.2)\n",
    "            pg.moveTo(list(p))"
   ]
  },
  {
   "cell_type": "code",
   "execution_count": null,
   "metadata": {
    "hidden": true
   },
   "outputs": [],
   "source": [
    "# 封装函数\n",
    "import numpy as np\n",
    "import pyautogui as pg\n",
    "import time\n",
    "def cube_initialize(standard: bool = True):\n",
    "    if standard:\n",
    "        center = np.array([535, 662])\n",
    "        l1 = 246\n",
    "    else: # 否则要求输入两个特定位置\n",
    "        input(\"按回车录入中心点位置\")\n",
    "        center = np.array(pg.position())\n",
    "        input(\"按回车录入底部位置\")\n",
    "        bottom = np.array(pg.position())\n",
    "        l1 = bottom[1] - center[1]\n",
    "    l2, l3 = l1 * 208 // 246, l1 * 122 // 246\n",
    "    left, right, down = [np.array(p) //3 for p in [[-l2, -l3], [l2, -l3], [0, l1]]]\n",
    "    red_origin, blue_origin, white_origin = [center + i // 2 for i in [left + down, right + down, left + right]]\n",
    "    reds = [[red_origin + (2 - i) * left + j * down for i in range(3)] for j in range(3)]\n",
    "    blues = [[blue_origin + i * right + j * down for i in range(3)] for j in range(3)]\n",
    "    whites = [[white_origin + (2 - i) * left + j * right for i in range(3)]for j in range(3)]\n",
    "    return reds, blues, whites\n",
    "def check_positions(facets):\n",
    "    for line in facets:\n",
    "        for p in line:\n",
    "            time.sleep(0.2)\n",
    "            pg.moveTo(list(p))"
   ]
  },
  {
   "cell_type": "code",
   "execution_count": null,
   "metadata": {
    "hidden": true
   },
   "outputs": [],
   "source": [
    "reds, blues, whites = cube_initialize(standard=False)"
   ]
  },
  {
   "cell_type": "code",
   "execution_count": null,
   "metadata": {
    "hidden": true
   },
   "outputs": [],
   "source": [
    "check_positions(reds)"
   ]
  },
  {
   "cell_type": "code",
   "execution_count": null,
   "metadata": {
    "hidden": true
   },
   "outputs": [],
   "source": [
    "check_positions(blues)"
   ]
  },
  {
   "cell_type": "code",
   "execution_count": null,
   "metadata": {
    "hidden": true
   },
   "outputs": [],
   "source": [
    "check_positions(whites)"
   ]
  },
  {
   "cell_type": "markdown",
   "metadata": {},
   "source": [
    "### 识别魔方"
   ]
  },
  {
   "cell_type": "markdown",
   "metadata": {
    "heading_collapsed": true
   },
   "source": [
    "#### 识别颜色"
   ]
  },
  {
   "cell_type": "code",
   "execution_count": null,
   "metadata": {
    "hidden": true
   },
   "outputs": [],
   "source": [
    "# 上，左，右-三面的颜色信息\n",
    "white = (252, 244, 252), (222, 215, 222), (198, 192, 198)\n",
    "red = (236, 56, 35), (208, 50, 30),(186, 44, 27)\n",
    "blue = (64, 168, 198),(56, 148, 174),(51, 132, 155)\n",
    "green = (128, 200, 55),(113, 176, 49),(101, 157, 44)\n",
    "orange = (252, 138, 10),(222, 122, 9),(198, 109, 8)\n",
    "yellow = (252, 237, 71),(222, 208, 63),(198, 186, 56)"
   ]
  },
  {
   "cell_type": "code",
   "execution_count": null,
   "metadata": {
    "hidden": true
   },
   "outputs": [],
   "source": [
    "dic = {\"white\":white, \"red\":red, \"blue\":blue, \"green\":green, \"orange\":orange, \"yellow\":yellow}"
   ]
  },
  {
   "cell_type": "code",
   "execution_count": null,
   "metadata": {
    "hidden": true
   },
   "outputs": [],
   "source": [
    "colors = {'white': ((252, 244, 252), (222, 215, 222), (198, 192, 198)),\n",
    " 'red': ((236, 56, 35), (208, 50, 30), (186, 44, 27)),\n",
    " 'blue': ((64, 168, 198), (56, 148, 174), (51, 132, 155)),\n",
    " 'green': ((128, 200, 55), (113, 176, 49), (101, 157, 44)),\n",
    " 'orange': ((252, 138, 10), (222, 122, 9), (198, 109, 8)),\n",
    " 'yellow': ((252, 237, 71), (222, 208, 63), (198, 186, 56))}\n",
    "\n",
    "diff = lambda c1, c2: sum(abs(i - j) for i, j in zip(c1, c2))\n",
    "\n",
    "def find_color(color, side = 0):\n",
    "    \"\"\"\n",
    "    匹配三维数组 color 对应的颜色\n",
    "    side 参数如下：\n",
    "       - 0 小面位于上方\n",
    "       - 1 小面位于左侧\n",
    "       - 2 小面位于右侧\n",
    "    \"\"\"\n",
    "    return min(colors.keys(), key = lambda c: diff(colors[c][side], color))"
   ]
  },
  {
   "cell_type": "markdown",
   "metadata": {
    "heading_collapsed": true
   },
   "source": [
    "#### 代码调试"
   ]
  },
  {
   "cell_type": "code",
   "execution_count": 60,
   "metadata": {
    "hidden": true
   },
   "outputs": [],
   "source": [
    "from rubik import *"
   ]
  },
  {
   "cell_type": "code",
   "execution_count": 61,
   "metadata": {
    "hidden": true,
    "scrolled": false
   },
   "outputs": [
    {
     "name": "stdout",
     "output_type": "stream",
     "text": [
      "按回车录入中心点位置\n",
      "按回车录入底部位置\n",
      "中心位置 [536 669] 垂直长度 296\n"
     ]
    }
   ],
   "source": [
    "center, left, right, down = cube_initialize(standard=False)\n",
    "lefts, rights, ups = get_facets(center, left, right, down)"
   ]
  },
  {
   "cell_type": "code",
   "execution_count": 62,
   "metadata": {
    "hidden": true
   },
   "outputs": [],
   "source": [
    "check_positions(lefts)"
   ]
  },
  {
   "cell_type": "code",
   "execution_count": 63,
   "metadata": {
    "hidden": true
   },
   "outputs": [],
   "source": [
    "check_positions(rights)"
   ]
  },
  {
   "cell_type": "code",
   "execution_count": 64,
   "metadata": {
    "hidden": true
   },
   "outputs": [],
   "source": [
    "check_positions(ups)"
   ]
  },
  {
   "cell_type": "code",
   "execution_count": 14,
   "metadata": {
    "hidden": true,
    "scrolled": true
   },
   "outputs": [],
   "source": [
    "im = pg.screenshot()"
   ]
  },
  {
   "cell_type": "code",
   "execution_count": 19,
   "metadata": {
    "hidden": true
   },
   "outputs": [],
   "source": [
    "def find_color(img, pos, side = 0):\n",
    "    \"\"\"\n",
    "    匹配三维数组 color 对应的颜色\n",
    "    side 参数如下：\n",
    "       - 0 小面位于上方\n",
    "       - 1 小面位于左侧\n",
    "       - 2 小面位于右侧\n",
    "    \"\"\"\n",
    "    color = img.getpixel(pos)\n",
    "    return min(colors.keys(), key = lambda c: diff(colors[c][side], color))"
   ]
  },
  {
   "cell_type": "code",
   "execution_count": null,
   "metadata": {
    "hidden": true
   },
   "outputs": [],
   "source": [
    "for p in ups:\n",
    "    print([find_color(im.getpixel(p),i) for i in range(3)])"
   ]
  },
  {
   "cell_type": "markdown",
   "metadata": {
    "heading_collapsed": true
   },
   "source": [
    "#### 识别颜色分布"
   ]
  },
  {
   "cell_type": "markdown",
   "metadata": {
    "hidden": true
   },
   "source": [
    "标号规则：用 `URFDLB` 代表六个面的颜色：\n",
    "   - U for up\n",
    "   - R for right\n",
    "   - F for front\n",
    "   - D for down\n",
    "   - L for left\n",
    "   - B for behind\n",
    "\n",
    "按下边顺序读入魔方，还原状态为 `UUUUUUUUURRRRRRRRRFFFFFFFFFDDDDDDDDDLLLLLLLLLBBBBBBBBB`\n",
    "```\n",
    "             |************|\n",
    "             |*U1**U2**U3*|\n",
    "             |************|\n",
    "             |*U4**U5**U6*|\n",
    "             |************|\n",
    "             |*U7**U8**U9*|\n",
    "             |************|\n",
    " ************|************|************|************\n",
    " *L1**L2**L3*|*F1**F2**F3*|*R1**R2**R3*|*B1**B2**B3*\n",
    " ************|************|************|************\n",
    " *L4**L5**L6*|*F4**F5**F6*|*R4**R5**R6*|*B4**B5**B6*\n",
    " ************|************|************|************\n",
    " *L7**L8**L9*|*F7**F8**F9*|*R7**R8**R9*|*B7**B8**B9*\n",
    " ************|************|************|************\n",
    "             |************|\n",
    "             |*D1**D2**D3*|\n",
    "             |************|\n",
    "             |*D4**D5**D6*|\n",
    "             |************|\n",
    "             |*D7**D8**D9*|\n",
    "             |************|\n",
    "```"
   ]
  },
  {
   "cell_type": "markdown",
   "metadata": {
    "hidden": true
   },
   "source": [
    "基本规则：\n",
    "   - 初始上左右三面为 U,L,F，次序按标准顺序\n",
    "   - 左扫，左扫，上扫，上左右三面分别为 B,R,D，此时\n",
    "      - B 的次序正确\n",
    "      - R 的顺序取原数据的 (7,4,1,8,5,2,9,6,3) \n",
    "      - D 的顺序取原数据的反序\n",
    "   - U,L,F,B,R,D 颜色分别为 white, red, blue, green, orange, yellow"
   ]
  },
  {
   "cell_type": "code",
   "execution_count": 32,
   "metadata": {
    "hidden": true
   },
   "outputs": [],
   "source": [
    "im = pg.screenshot()"
   ]
  },
  {
   "cell_type": "code",
   "execution_count": null,
   "metadata": {
    "hidden": true
   },
   "outputs": [],
   "source": [
    "color_to_facet = {\"white\":\"U\", \"red\":\"L\", \"blue\":\"F\", \"green\":\"B\", \"orange\":\"R\", \"yellow\":\"D\"}"
   ]
  },
  {
   "cell_type": "code",
   "execution_count": 20,
   "metadata": {
    "hidden": true
   },
   "outputs": [],
   "source": [
    "face_U = [find_color(im, p) for p in ups]\n",
    "face_L = [find_color(im, p, 1) for p in lefts]\n",
    "face_F = [find_color(im, p, 2) for p in rights]"
   ]
  },
  {
   "cell_type": "code",
   "execution_count": 21,
   "metadata": {
    "hidden": true
   },
   "outputs": [
    {
     "name": "stdout",
     "output_type": "stream",
     "text": [
      "['yellow', 'green', 'red', 'red', 'green', 'orange', 'blue', 'blue', 'red']\n",
      "['blue', 'white', 'orange', 'green', 'orange', 'white', 'white', 'white', 'green']\n",
      "['white', 'red', 'yellow', 'orange', 'yellow', 'red', 'orange', 'yellow', 'yellow']\n"
     ]
    }
   ],
   "source": [
    "print(face_U)\n",
    "print(face_L)\n",
    "print(face_F)"
   ]
  },
  {
   "cell_type": "code",
   "execution_count": 33,
   "metadata": {
    "hidden": true
   },
   "outputs": [],
   "source": [
    "face_B = [find_color(im, p) for p in ups]\n",
    "face_R = [find_color(im, p, 1) for p in lefts]\n",
    "face_D = [find_color(im, p, 2) for p in rights]\n",
    "face_R = [face_R[i-1] for i in (7,4,1,8,5,2,9,6,3)]\n",
    "face_D.reverse()"
   ]
  },
  {
   "cell_type": "code",
   "execution_count": 34,
   "metadata": {
    "hidden": true,
    "scrolled": true
   },
   "outputs": [
    {
     "name": "stdout",
     "output_type": "stream",
     "text": [
      "['white', 'red', 'orange', 'green', 'white', 'yellow', 'yellow', 'white', 'green']\n",
      "['blue', 'yellow', 'blue', 'yellow', 'red', 'orange', 'green', 'blue', 'green']\n",
      "['white', 'blue', 'red', 'green', 'blue', 'orange', 'red', 'blue', 'orange']\n"
     ]
    }
   ],
   "source": [
    "print(face_B)\n",
    "print(face_R)\n",
    "print(face_D)"
   ]
  },
  {
   "cell_type": "code",
   "execution_count": 35,
   "metadata": {
    "hidden": true
   },
   "outputs": [],
   "source": [
    "def color_distribution(im, ups, lefts, rights, shift = False):\n",
    "    \"\"\"获取颜色分布，第二位置时修改\"\"\"\n",
    "    face_U = [find_color(im, p) for p in ups]\n",
    "    face_L = [find_color(im, p, 1) for p in lefts]\n",
    "    face_F = [find_color(im, p, 2) for p in rights]\n",
    "    if not shift: # 初始界面\n",
    "        return face_U, face_L, face_F\n",
    "    # 扭转后的界面\n",
    "    face_B, face_R, face_D = face_U, [face_L[i-1] for i in (7,4,1,8,5,2,9,6,3)], face_F[::-1]\n",
    "    return face_B, face_R, face_D"
   ]
  },
  {
   "cell_type": "markdown",
   "metadata": {},
   "source": [
    "#### 代码汇总"
   ]
  },
  {
   "cell_type": "code",
   "execution_count": null,
   "metadata": {},
   "outputs": [],
   "source": [
    "colors = {'white': ((252, 244, 252), (222, 215, 222), (198, 192, 198)),\n",
    " 'red': ((236, 56, 35), (208, 50, 30), (186, 44, 27)),\n",
    " 'blue': ((64, 168, 198), (56, 148, 174), (51, 132, 155)),\n",
    " 'green': ((128, 200, 55), (113, 176, 49), (101, 157, 44)),\n",
    " 'orange': ((252, 138, 10), (222, 122, 9), (198, 109, 8)),\n",
    " 'yellow': ((252, 237, 71), (222, 208, 63), (198, 186, 56))}\n",
    "\n",
    "diff = lambda c1, c2: sum(abs(i - j) for i, j in zip(c1, c2))\n",
    "\n",
    "def find_color(img, pos, side = 0):\n",
    "    \"\"\"\n",
    "    匹配三维数组 color 对应的颜色\n",
    "    side 参数如下：\n",
    "       - 0 小面位于上方\n",
    "       - 1 小面位于左侧\n",
    "       - 2 小面位于右侧\n",
    "    \"\"\"\n",
    "    color = img.getpixel(pos)\n",
    "    return min(colors.keys(), key = lambda c: diff(colors[c][side], color))"
   ]
  },
  {
   "cell_type": "code",
   "execution_count": 37,
   "metadata": {},
   "outputs": [],
   "source": [
    "color_to_facet = {\"white\":\"U\", \"red\":\"L\", \"blue\":\"F\", \"green\":\"B\", \"orange\":\"R\", \"yellow\":\"D\"}\n",
    "facet_to_color = {val:key for key, val in color_to_facet.items()}\n",
    "def color_distribution(im, ups, lefts, rights, shift = False):\n",
    "    \"\"\"获取颜色分布，第二位置时修改\"\"\"\n",
    "    face_U = [color_to_facet[find_color(im, p)] for p in ups]\n",
    "    face_L = [color_to_facet[find_color(im, p, 1)] for p in lefts]\n",
    "    face_F = [color_to_facet[find_color(im, p, 2)] for p in rights]\n",
    "    if not shift: # 初始界面\n",
    "        return face_U, face_L, face_F\n",
    "    # 扭转后的界面\n",
    "    face_B, face_R, face_D = face_U, [face_L[i-1] for i in (7,4,1,8,5,2,9,6,3)], face_F[::-1]\n",
    "    return face_B, face_R, face_D"
   ]
  },
  {
   "cell_type": "code",
   "execution_count": 96,
   "metadata": {},
   "outputs": [],
   "source": [
    "def shift_faces(center, down, back=False):\n",
    "    \"\"\"左滑和上移\"\"\"\n",
    "    d = int(down[1])\n",
    "    corner = array_to_tuple(center + (3 * d, 3 * d))\n",
    "    seq = [(-d, 0), (-d, 0), (0, -d)] if not back else [(0, d), (d, 0), (d, 0)]\n",
    "    for i, j in seq:\n",
    "        pg.moveTo(corner, duration=0.1)\n",
    "        pg.dragRel(i, j, duration=0.25)\n",
    "    return"
   ]
  },
  {
   "cell_type": "markdown",
   "metadata": {},
   "source": [
    "#### 识别魔方"
   ]
  },
  {
   "cell_type": "code",
   "execution_count": 95,
   "metadata": {},
   "outputs": [],
   "source": [
    "shift_faces(center, down)"
   ]
  },
  {
   "cell_type": "code",
   "execution_count": null,
   "metadata": {},
   "outputs": [],
   "source": [
    "def get_cube_distribution(center, down, pos)"
   ]
  },
  {
   "cell_type": "markdown",
   "metadata": {},
   "source": [
    "余下步骤：\n",
    "   1. 五个面的基本操作\n",
    "   2. 识别魔方，并进行运算\n",
    "   3. 输入魔方，输出求解步骤，并演示\n",
    "   \n",
    "![20220127224807](https://cdn.jsdelivr.net/gh/zhihongecnu/PicBed/picgo/20220127224807.png)\n",
    "\n"
   ]
  },
  {
   "cell_type": "markdown",
   "metadata": {},
   "source": [
    "#### 确定整体位置"
   ]
  },
  {
   "cell_type": "code",
   "execution_count": null,
   "metadata": {},
   "outputs": [],
   "source": [
    "import kociemba"
   ]
  },
  {
   "cell_type": "code",
   "execution_count": null,
   "metadata": {},
   "outputs": [],
   "source": [
    "complete = \"UUUUUUUUURRRRRRRRRFFFFFFFFFDDDDDDDDDLLLLLLLLLBBBBBBBBB\""
   ]
  },
  {
   "cell_type": "code",
   "execution_count": null,
   "metadata": {},
   "outputs": [],
   "source": [
    "kociemba.solve(complete)"
   ]
  },
  {
   "cell_type": "code",
   "execution_count": null,
   "metadata": {},
   "outputs": [],
   "source": [
    "s = kociemba.solve('UBRLUFFUBLRUFRLLLRDBDRFDBBUDDBUDDLRFBFLDLBFFRFLRUBRDUU')"
   ]
  },
  {
   "cell_type": "code",
   "execution_count": null,
   "metadata": {},
   "outputs": [],
   "source": []
  },
  {
   "cell_type": "code",
   "execution_count": null,
   "metadata": {},
   "outputs": [],
   "source": []
  },
  {
   "cell_type": "code",
   "execution_count": null,
   "metadata": {},
   "outputs": [],
   "source": [
    "{\"white\":(222, 215, 222), \"red\":"
   ]
  },
  {
   "cell_type": "code",
   "execution_count": null,
   "metadata": {},
   "outputs": [],
   "source": [
    "for line in blues:\n",
    "    for p in line:\n",
    "        p = tuple(int(i) for i in p)\n",
    "        print(im.getpixel(p))"
   ]
  },
  {
   "cell_type": "code",
   "execution_count": null,
   "metadata": {},
   "outputs": [],
   "source": [
    "p = tuple(int(i) for i in white_origin)\n",
    "im.getpixel(p)"
   ]
  },
  {
   "cell_type": "code",
   "execution_count": null,
   "metadata": {},
   "outputs": [],
   "source": [
    "p = [int(i) for i in red_origin]\n",
    "im.load()[p[0],p[1]]"
   ]
  },
  {
   "cell_type": "code",
   "execution_count": null,
   "metadata": {},
   "outputs": [],
   "source": [
    "p = [int(i) for i in blue_origin]\n",
    "im.load()[p[0],p[1]]"
   ]
  },
  {
   "cell_type": "code",
   "execution_count": null,
   "metadata": {},
   "outputs": [],
   "source": [
    "# 需要安装 scrot\n",
    "im = pg.screenshot()"
   ]
  },
  {
   "cell_type": "code",
   "execution_count": null,
   "metadata": {},
   "outputs": [],
   "source": [
    "# left, upper, right ,lower\n",
    "im.crop((region[0], region[1], region[2] + region[0], region[3] + region[1]))"
   ]
  },
  {
   "cell_type": "code",
   "execution_count": null,
   "metadata": {},
   "outputs": [],
   "source": [
    "??pg.pixelMatchesColor"
   ]
  },
  {
   "cell_type": "code",
   "execution_count": null,
   "metadata": {},
   "outputs": [],
   "source": [
    "center = np.array([535, 662])"
   ]
  },
  {
   "cell_type": "code",
   "execution_count": null,
   "metadata": {},
   "outputs": [],
   "source": [
    "region = [center[0],center[1],3*right[0], -3*right[1]]"
   ]
  },
  {
   "cell_type": "code",
   "execution_count": null,
   "metadata": {},
   "outputs": [],
   "source": [
    "right[1]"
   ]
  },
  {
   "cell_type": "code",
   "execution_count": null,
   "metadata": {},
   "outputs": [],
   "source": [
    "pg.pixel(list(center),list(red_origin))"
   ]
  }
 ],
 "metadata": {
  "kernelspec": {
   "display_name": "Python 3",
   "language": "python",
   "name": "python3"
  },
  "language_info": {
   "codemirror_mode": {
    "name": "ipython",
    "version": 3
   },
   "file_extension": ".py",
   "mimetype": "text/x-python",
   "name": "python",
   "nbconvert_exporter": "python",
   "pygments_lexer": "ipython3",
   "version": "3.8.10"
  }
 },
 "nbformat": 4,
 "nbformat_minor": 4
}
